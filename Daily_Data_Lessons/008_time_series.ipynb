{
 "cells": [
  {
   "cell_type": "code",
   "execution_count": 1,
   "id": "fcdff85e",
   "metadata": {},
   "outputs": [],
   "source": [
    "import pandas as pd\n",
    "import numpy as np\n",
    "from datetime import datetime"
   ]
  },
  {
   "cell_type": "code",
   "execution_count": 8,
   "id": "aa3626ea",
   "metadata": {},
   "outputs": [
    {
     "data": {
      "text/plain": [
       "0    Nov 3, 2000\n",
       "1     2000-01-01\n",
       "2           None\n",
       "dtype: object"
      ]
     },
     "execution_count": 8,
     "metadata": {},
     "output_type": "execute_result"
    }
   ],
   "source": [
    "dt = pd.Series([\"Nov 3, 2000\", \"2000-01-01\", None ])\n",
    "dt"
   ]
  },
  {
   "cell_type": "code",
   "execution_count": 12,
   "id": "495048c4",
   "metadata": {},
   "outputs": [
    {
     "data": {
      "text/plain": [
       "Timestamp('2000-11-03 00:00:00')"
      ]
     },
     "execution_count": 12,
     "metadata": {},
     "output_type": "execute_result"
    }
   ],
   "source": [
    "pd.to_datetime(dt[0])"
   ]
  },
  {
   "cell_type": "code",
   "execution_count": 17,
   "id": "d353446e",
   "metadata": {},
   "outputs": [
    {
     "data": {
      "text/plain": [
       "Timestamp('2000-03-11 00:00:00')"
      ]
     },
     "execution_count": 17,
     "metadata": {},
     "output_type": "execute_result"
    }
   ],
   "source": [
    "pd.to_datetime(\"20001103\", format= \"%Y%d%m\")"
   ]
  },
  {
   "cell_type": "code",
   "execution_count": 18,
   "id": "4c38079a",
   "metadata": {},
   "outputs": [
    {
     "data": {
      "text/plain": [
       "Timestamp('2000-11-03 00:00:00')"
      ]
     },
     "execution_count": 18,
     "metadata": {},
     "output_type": "execute_result"
    }
   ],
   "source": [
    "pd.to_datetime(\"20001103\", format= \"%Y%m%d\")"
   ]
  },
  {
   "cell_type": "code",
   "execution_count": 19,
   "id": "0958be69",
   "metadata": {},
   "outputs": [],
   "source": [
    "df = pd.DataFrame({'year': [2015, 2016],\n",
    "                    'month': [2, 3],\n",
    "                    'day': [4, 5]})"
   ]
  },
  {
   "cell_type": "code",
   "execution_count": 22,
   "id": "7781f127",
   "metadata": {},
   "outputs": [
    {
     "data": {
      "text/plain": [
       "0   2015-02-04\n",
       "1   2016-03-05\n",
       "dtype: datetime64[ns]"
      ]
     },
     "execution_count": 22,
     "metadata": {},
     "output_type": "execute_result"
    }
   ],
   "source": [
    "pd.to_datetime(df)"
   ]
  },
  {
   "cell_type": "code",
   "execution_count": 24,
   "id": "fe78fb90",
   "metadata": {},
   "outputs": [
    {
     "data": {
      "text/plain": [
       "Timestamp('1970-01-01 00:05:25.454132321')"
      ]
     },
     "execution_count": 24,
     "metadata": {},
     "output_type": "execute_result"
    }
   ],
   "source": [
    "pd.to_datetime(325454132321)"
   ]
  },
  {
   "cell_type": "code",
   "execution_count": 42,
   "id": "024794fb",
   "metadata": {},
   "outputs": [
    {
     "data": {
      "text/plain": [
       "Timestamp('1970-03-21 13:35:32')"
      ]
     },
     "execution_count": 42,
     "metadata": {},
     "output_type": "execute_result"
    }
   ],
   "source": [
    "pd.to_datetime(6874532, unit=\"s\")"
   ]
  },
  {
   "cell_type": "code",
   "execution_count": 43,
   "id": "d4401c0e",
   "metadata": {},
   "outputs": [],
   "source": [
    "year = 2020\n",
    "month = 7\n",
    "day = 5\n",
    "hour = 18 \n",
    "minute = 45\n",
    "second = 22"
   ]
  },
  {
   "cell_type": "code",
   "execution_count": 44,
   "id": "8dc6cb0b",
   "metadata": {},
   "outputs": [],
   "source": [
    "my_date = datetime(year, month, day)"
   ]
  },
  {
   "cell_type": "code",
   "execution_count": 45,
   "id": "7b7e5c9b",
   "metadata": {},
   "outputs": [
    {
     "data": {
      "text/plain": [
       "datetime.datetime(2020, 7, 5, 0, 0)"
      ]
     },
     "execution_count": 45,
     "metadata": {},
     "output_type": "execute_result"
    }
   ],
   "source": [
    "my_date"
   ]
  },
  {
   "cell_type": "code",
   "execution_count": 46,
   "id": "1d6c9efb",
   "metadata": {},
   "outputs": [
    {
     "data": {
      "text/plain": [
       "datetime.datetime"
      ]
     },
     "execution_count": 46,
     "metadata": {},
     "output_type": "execute_result"
    }
   ],
   "source": [
    "type(my_date)"
   ]
  },
  {
   "cell_type": "code",
   "execution_count": 47,
   "id": "8e0a2c03",
   "metadata": {},
   "outputs": [],
   "source": [
    "my_date_hour = datetime(year, month, day, hour, minute, second)"
   ]
  },
  {
   "cell_type": "code",
   "execution_count": 48,
   "id": "5aa541e8",
   "metadata": {},
   "outputs": [
    {
     "data": {
      "text/plain": [
       "datetime.datetime(2020, 7, 5, 18, 45, 22)"
      ]
     },
     "execution_count": 48,
     "metadata": {},
     "output_type": "execute_result"
    }
   ],
   "source": [
    "my_date_hour"
   ]
  },
  {
   "cell_type": "code",
   "execution_count": 49,
   "id": "de5bb1c0",
   "metadata": {},
   "outputs": [
    {
     "data": {
      "text/plain": [
       "5"
      ]
     },
     "execution_count": 49,
     "metadata": {},
     "output_type": "execute_result"
    }
   ],
   "source": [
    "my_date.day"
   ]
  },
  {
   "cell_type": "code",
   "execution_count": 50,
   "id": "92cb0133",
   "metadata": {},
   "outputs": [
    {
     "data": {
      "text/plain": [
       "2020"
      ]
     },
     "execution_count": 50,
     "metadata": {},
     "output_type": "execute_result"
    }
   ],
   "source": [
    "my_date.year"
   ]
  },
  {
   "cell_type": "code",
   "execution_count": 52,
   "id": "a1c326bd",
   "metadata": {},
   "outputs": [
    {
     "data": {
      "text/plain": [
       "datetime.date(2020, 7, 5)"
      ]
     },
     "execution_count": 52,
     "metadata": {},
     "output_type": "execute_result"
    }
   ],
   "source": [
    "my_date.date()"
   ]
  },
  {
   "cell_type": "code",
   "execution_count": 57,
   "id": "22c6a1a5",
   "metadata": {},
   "outputs": [
    {
     "data": {
      "text/plain": [
       "datetime.time(18, 45, 22)"
      ]
     },
     "execution_count": 57,
     "metadata": {},
     "output_type": "execute_result"
    }
   ],
   "source": [
    "my_date_hour.time()"
   ]
  },
  {
   "cell_type": "code",
   "execution_count": 54,
   "id": "a126227c",
   "metadata": {},
   "outputs": [
    {
     "data": {
      "text/plain": [
       "0    Nov 3, 2000\n",
       "1     2000-01-01\n",
       "2           None\n",
       "dtype: object"
      ]
     },
     "execution_count": 54,
     "metadata": {},
     "output_type": "execute_result"
    }
   ],
   "source": [
    "# dt = pd.Series([\"Nov 3, 2000\", \"2000-01-01\", None ])\n",
    "dt"
   ]
  },
  {
   "cell_type": "code",
   "execution_count": 55,
   "id": "7e5d6af1",
   "metadata": {},
   "outputs": [
    {
     "data": {
      "text/plain": [
       "0   2000-11-03\n",
       "1   2000-01-01\n",
       "2          NaT\n",
       "dtype: datetime64[ns]"
      ]
     },
     "execution_count": 55,
     "metadata": {},
     "output_type": "execute_result"
    }
   ],
   "source": [
    "pd.to_datetime(dt)"
   ]
  },
  {
   "cell_type": "code",
   "execution_count": 58,
   "id": "ac5c09fb",
   "metadata": {},
   "outputs": [],
   "source": [
    "new_date = \"28-05-2020\"\n"
   ]
  },
  {
   "cell_type": "code",
   "execution_count": 60,
   "id": "93468ea2",
   "metadata": {},
   "outputs": [
    {
     "data": {
      "text/plain": [
       "Timestamp('2020-05-28 00:00:00')"
      ]
     },
     "execution_count": 60,
     "metadata": {},
     "output_type": "execute_result"
    }
   ],
   "source": [
    "pd.to_datetime(new_date)"
   ]
  },
  {
   "cell_type": "code",
   "execution_count": 61,
   "id": "4b2b8886",
   "metadata": {},
   "outputs": [],
   "source": [
    "new_date2 = \"4-5-2020\""
   ]
  },
  {
   "cell_type": "code",
   "execution_count": 62,
   "id": "8c4cb8e6",
   "metadata": {},
   "outputs": [
    {
     "data": {
      "text/plain": [
       "Timestamp('2020-04-05 00:00:00')"
      ]
     },
     "execution_count": 62,
     "metadata": {},
     "output_type": "execute_result"
    }
   ],
   "source": [
    "pd.to_datetime(new_date2)"
   ]
  },
  {
   "cell_type": "code",
   "execution_count": 63,
   "id": "95b4d7af",
   "metadata": {},
   "outputs": [
    {
     "data": {
      "text/plain": [
       "Timestamp('2020-05-04 00:00:00')"
      ]
     },
     "execution_count": 63,
     "metadata": {},
     "output_type": "execute_result"
    }
   ],
   "source": [
    "pd.to_datetime(new_date2, dayfirst=True)"
   ]
  },
  {
   "cell_type": "code",
   "execution_count": 71,
   "id": "24ff159b",
   "metadata": {},
   "outputs": [],
   "source": [
    "diff_date = \"12/12/2020\""
   ]
  },
  {
   "cell_type": "code",
   "execution_count": 72,
   "id": "3659c606",
   "metadata": {},
   "outputs": [
    {
     "data": {
      "text/plain": [
       "Timestamp('2020-12-12 00:00:00')"
      ]
     },
     "execution_count": 72,
     "metadata": {},
     "output_type": "execute_result"
    }
   ],
   "source": [
    "pd.to_datetime(diff_date)"
   ]
  },
  {
   "cell_type": "code",
   "execution_count": 73,
   "id": "9f5ae8b4",
   "metadata": {},
   "outputs": [
    {
     "data": {
      "text/plain": [
       "Timestamp('2020-12-12 00:00:00')"
      ]
     },
     "execution_count": 73,
     "metadata": {},
     "output_type": "execute_result"
    }
   ],
   "source": [
    "diff_date2 = \"12--12--2020\"\n",
    "pd.to_datetime(diff_date2)"
   ]
  },
  {
   "cell_type": "code",
   "execution_count": 75,
   "id": "85c48238",
   "metadata": {},
   "outputs": [
    {
     "data": {
      "text/plain": [
       "Timestamp('2020-12-12 00:00:00')"
      ]
     },
     "execution_count": 75,
     "metadata": {},
     "output_type": "execute_result"
    }
   ],
   "source": [
    "diff_date3 = \"12--Dec--2020\"\n",
    "pd.to_datetime(diff_date3, format= \"%d--%b--%Y\")"
   ]
  },
  {
   "cell_type": "code",
   "execution_count": 77,
   "id": "8015366b",
   "metadata": {},
   "outputs": [
    {
     "data": {
      "text/plain": [
       "Timestamp('2000-10-05 00:00:00')"
      ]
     },
     "execution_count": 77,
     "metadata": {},
     "output_type": "execute_result"
    }
   ],
   "source": [
    "strange_date = \"   5th of Oct 2000  \\n\\t\"\n",
    "pd.to_datetime(strange_date)"
   ]
  },
  {
   "cell_type": "code",
   "execution_count": 78,
   "id": "84bb3a1e",
   "metadata": {},
   "outputs": [],
   "source": [
    "df = pd.read_csv(\"currency_rates_082020_EUR.csv\")"
   ]
  },
  {
   "cell_type": "code",
   "execution_count": 79,
   "id": "eb59b865",
   "metadata": {},
   "outputs": [
    {
     "name": "stdout",
     "output_type": "stream",
     "text": [
      "<class 'pandas.core.frame.DataFrame'>\n",
      "RangeIndex: 220 entries, 0 to 219\n",
      "Data columns (total 3 columns):\n",
      " #   Column    Non-Null Count  Dtype  \n",
      "---  ------    --------------  -----  \n",
      " 0   currency  220 non-null    object \n",
      " 1   date      220 non-null    object \n",
      " 2   rate      220 non-null    float64\n",
      "dtypes: float64(1), object(2)\n",
      "memory usage: 5.3+ KB\n"
     ]
    }
   ],
   "source": [
    "df.info()"
   ]
  },
  {
   "cell_type": "code",
   "execution_count": 80,
   "id": "ae717994",
   "metadata": {},
   "outputs": [
    {
     "data": {
      "text/plain": [
       "'8/1/2020'"
      ]
     },
     "execution_count": 80,
     "metadata": {},
     "output_type": "execute_result"
    }
   ],
   "source": [
    "df.iloc[0][\"date\"]"
   ]
  },
  {
   "cell_type": "code",
   "execution_count": 81,
   "id": "34101a38",
   "metadata": {},
   "outputs": [
    {
     "data": {
      "text/plain": [
       "str"
      ]
     },
     "execution_count": 81,
     "metadata": {},
     "output_type": "execute_result"
    }
   ],
   "source": [
    "type(df.iloc[0][\"date\"])"
   ]
  },
  {
   "cell_type": "code",
   "execution_count": 82,
   "id": "9bb1c286",
   "metadata": {},
   "outputs": [],
   "source": [
    "df[\"date\"] = pd.to_datetime(df[\"date\"])"
   ]
  },
  {
   "cell_type": "code",
   "execution_count": 83,
   "id": "be825e32",
   "metadata": {},
   "outputs": [
    {
     "name": "stdout",
     "output_type": "stream",
     "text": [
      "<class 'pandas.core.frame.DataFrame'>\n",
      "RangeIndex: 220 entries, 0 to 219\n",
      "Data columns (total 3 columns):\n",
      " #   Column    Non-Null Count  Dtype         \n",
      "---  ------    --------------  -----         \n",
      " 0   currency  220 non-null    object        \n",
      " 1   date      220 non-null    datetime64[ns]\n",
      " 2   rate      220 non-null    float64       \n",
      "dtypes: datetime64[ns](1), float64(1), object(1)\n",
      "memory usage: 5.3+ KB\n"
     ]
    }
   ],
   "source": [
    "df.info()"
   ]
  },
  {
   "cell_type": "code",
   "execution_count": 87,
   "id": "5d9d5224",
   "metadata": {},
   "outputs": [
    {
     "data": {
      "text/html": [
       "<div>\n",
       "<style scoped>\n",
       "    .dataframe tbody tr th:only-of-type {\n",
       "        vertical-align: middle;\n",
       "    }\n",
       "\n",
       "    .dataframe tbody tr th {\n",
       "        vertical-align: top;\n",
       "    }\n",
       "\n",
       "    .dataframe thead th {\n",
       "        text-align: right;\n",
       "    }\n",
       "</style>\n",
       "<table border=\"1\" class=\"dataframe\">\n",
       "  <thead>\n",
       "    <tr style=\"text-align: right;\">\n",
       "      <th></th>\n",
       "      <th>currency</th>\n",
       "      <th>date</th>\n",
       "      <th>rate</th>\n",
       "    </tr>\n",
       "  </thead>\n",
       "  <tbody>\n",
       "    <tr>\n",
       "      <th>0</th>\n",
       "      <td>EUR</td>\n",
       "      <td>2020-08-01</td>\n",
       "      <td>1.0</td>\n",
       "    </tr>\n",
       "    <tr>\n",
       "      <th>1</th>\n",
       "      <td>EUR</td>\n",
       "      <td>2020-08-02</td>\n",
       "      <td>1.0</td>\n",
       "    </tr>\n",
       "    <tr>\n",
       "      <th>2</th>\n",
       "      <td>EUR</td>\n",
       "      <td>2020-08-03</td>\n",
       "      <td>1.0</td>\n",
       "    </tr>\n",
       "    <tr>\n",
       "      <th>3</th>\n",
       "      <td>EUR</td>\n",
       "      <td>2020-08-04</td>\n",
       "      <td>1.0</td>\n",
       "    </tr>\n",
       "    <tr>\n",
       "      <th>4</th>\n",
       "      <td>EUR</td>\n",
       "      <td>2020-08-05</td>\n",
       "      <td>1.0</td>\n",
       "    </tr>\n",
       "  </tbody>\n",
       "</table>\n",
       "</div>"
      ],
      "text/plain": [
       "  currency       date  rate\n",
       "0      EUR 2020-08-01   1.0\n",
       "1      EUR 2020-08-02   1.0\n",
       "2      EUR 2020-08-03   1.0\n",
       "3      EUR 2020-08-04   1.0\n",
       "4      EUR 2020-08-05   1.0"
      ]
     },
     "execution_count": 87,
     "metadata": {},
     "output_type": "execute_result"
    }
   ],
   "source": [
    "df.head()"
   ]
  },
  {
   "cell_type": "code",
   "execution_count": 88,
   "id": "584b0d84",
   "metadata": {},
   "outputs": [
    {
     "data": {
      "text/plain": [
       "Timestamp('2020-08-01 00:00:00')"
      ]
     },
     "execution_count": 88,
     "metadata": {},
     "output_type": "execute_result"
    }
   ],
   "source": [
    "df.iloc[0][\"date\"]"
   ]
  },
  {
   "cell_type": "code",
   "execution_count": 89,
   "id": "27946924",
   "metadata": {},
   "outputs": [
    {
     "data": {
      "text/plain": [
       "pandas._libs.tslibs.timestamps.Timestamp"
      ]
     },
     "execution_count": 89,
     "metadata": {},
     "output_type": "execute_result"
    }
   ],
   "source": [
    "type(df.iloc[0][\"date\"])"
   ]
  },
  {
   "cell_type": "code",
   "execution_count": 90,
   "id": "664bc5c8",
   "metadata": {},
   "outputs": [
    {
     "data": {
      "text/plain": [
       "0      2020-08-01\n",
       "1      2020-08-02\n",
       "2      2020-08-03\n",
       "3      2020-08-04\n",
       "4      2020-08-05\n",
       "          ...    \n",
       "215    2020-08-06\n",
       "216    2020-08-07\n",
       "217    2020-08-08\n",
       "218    2020-08-09\n",
       "219    2020-08-10\n",
       "Name: date, Length: 220, dtype: object"
      ]
     },
     "execution_count": 90,
     "metadata": {},
     "output_type": "execute_result"
    }
   ],
   "source": [
    "df[\"date\"].dt.date"
   ]
  },
  {
   "cell_type": "code",
   "execution_count": 91,
   "id": "d9d56d56",
   "metadata": {},
   "outputs": [
    {
     "data": {
      "text/plain": [
       "0      00:00:00\n",
       "1      00:00:00\n",
       "2      00:00:00\n",
       "3      00:00:00\n",
       "4      00:00:00\n",
       "         ...   \n",
       "215    00:00:00\n",
       "216    00:00:00\n",
       "217    00:00:00\n",
       "218    00:00:00\n",
       "219    00:00:00\n",
       "Name: date, Length: 220, dtype: object"
      ]
     },
     "execution_count": 91,
     "metadata": {},
     "output_type": "execute_result"
    }
   ],
   "source": [
    "df[\"date\"].dt.time"
   ]
  },
  {
   "cell_type": "code",
   "execution_count": 92,
   "id": "4e4ac875",
   "metadata": {},
   "outputs": [
    {
     "data": {
      "text/plain": [
       "Timedelta('3 days 00:00:00')"
      ]
     },
     "execution_count": 92,
     "metadata": {},
     "output_type": "execute_result"
    }
   ],
   "source": [
    "df[\"date\"][3] - df[\"date\"][0] "
   ]
  },
  {
   "cell_type": "code",
   "execution_count": 93,
   "id": "6687444b",
   "metadata": {},
   "outputs": [
    {
     "data": {
      "text/plain": [
       "pandas._libs.tslibs.timedeltas.Timedelta"
      ]
     },
     "execution_count": 93,
     "metadata": {},
     "output_type": "execute_result"
    }
   ],
   "source": [
    "type(df[\"date\"][3] - df[\"date\"][0] )"
   ]
  },
  {
   "cell_type": "code",
   "execution_count": 95,
   "id": "9637dfc1",
   "metadata": {},
   "outputs": [
    {
     "data": {
      "text/plain": [
       "Timedelta('-2 days +00:00:00')"
      ]
     },
     "execution_count": 95,
     "metadata": {},
     "output_type": "execute_result"
    }
   ],
   "source": [
    "df[\"date\"][3] - df[\"date\"][25] "
   ]
  },
  {
   "cell_type": "code",
   "execution_count": 105,
   "id": "8aa258df",
   "metadata": {},
   "outputs": [
    {
     "data": {
      "text/html": [
       "<div>\n",
       "<style scoped>\n",
       "    .dataframe tbody tr th:only-of-type {\n",
       "        vertical-align: middle;\n",
       "    }\n",
       "\n",
       "    .dataframe tbody tr th {\n",
       "        vertical-align: top;\n",
       "    }\n",
       "\n",
       "    .dataframe thead th {\n",
       "        text-align: right;\n",
       "    }\n",
       "</style>\n",
       "<table border=\"1\" class=\"dataframe\">\n",
       "  <thead>\n",
       "    <tr style=\"text-align: right;\">\n",
       "      <th></th>\n",
       "      <th>currency</th>\n",
       "      <th>date</th>\n",
       "      <th>rate</th>\n",
       "    </tr>\n",
       "  </thead>\n",
       "  <tbody>\n",
       "    <tr>\n",
       "      <th>10</th>\n",
       "      <td>GBP</td>\n",
       "      <td>2020-08-01</td>\n",
       "      <td>0.900185</td>\n",
       "    </tr>\n",
       "    <tr>\n",
       "      <th>11</th>\n",
       "      <td>GBP</td>\n",
       "      <td>2020-08-02</td>\n",
       "      <td>0.899325</td>\n",
       "    </tr>\n",
       "    <tr>\n",
       "      <th>12</th>\n",
       "      <td>GBP</td>\n",
       "      <td>2020-08-03</td>\n",
       "      <td>0.899350</td>\n",
       "    </tr>\n",
       "    <tr>\n",
       "      <th>13</th>\n",
       "      <td>GBP</td>\n",
       "      <td>2020-08-04</td>\n",
       "      <td>0.902815</td>\n",
       "    </tr>\n",
       "    <tr>\n",
       "      <th>14</th>\n",
       "      <td>GBP</td>\n",
       "      <td>2020-08-05</td>\n",
       "      <td>0.904500</td>\n",
       "    </tr>\n",
       "    <tr>\n",
       "      <th>15</th>\n",
       "      <td>GBP</td>\n",
       "      <td>2020-08-06</td>\n",
       "      <td>0.903835</td>\n",
       "    </tr>\n",
       "    <tr>\n",
       "      <th>16</th>\n",
       "      <td>GBP</td>\n",
       "      <td>2020-08-07</td>\n",
       "      <td>0.902860</td>\n",
       "    </tr>\n",
       "    <tr>\n",
       "      <th>17</th>\n",
       "      <td>GBP</td>\n",
       "      <td>2020-08-08</td>\n",
       "      <td>0.903200</td>\n",
       "    </tr>\n",
       "    <tr>\n",
       "      <th>18</th>\n",
       "      <td>GBP</td>\n",
       "      <td>2020-08-09</td>\n",
       "      <td>0.902780</td>\n",
       "    </tr>\n",
       "    <tr>\n",
       "      <th>19</th>\n",
       "      <td>GBP</td>\n",
       "      <td>2020-08-10</td>\n",
       "      <td>0.897750</td>\n",
       "    </tr>\n",
       "  </tbody>\n",
       "</table>\n",
       "</div>"
      ],
      "text/plain": [
       "   currency       date      rate\n",
       "10      GBP 2020-08-01  0.900185\n",
       "11      GBP 2020-08-02  0.899325\n",
       "12      GBP 2020-08-03  0.899350\n",
       "13      GBP 2020-08-04  0.902815\n",
       "14      GBP 2020-08-05  0.904500\n",
       "15      GBP 2020-08-06  0.903835\n",
       "16      GBP 2020-08-07  0.902860\n",
       "17      GBP 2020-08-08  0.903200\n",
       "18      GBP 2020-08-09  0.902780\n",
       "19      GBP 2020-08-10  0.897750"
      ]
     },
     "execution_count": 105,
     "metadata": {},
     "output_type": "execute_result"
    }
   ],
   "source": [
    "df[df[\"currency\"] == \"GBP\"]"
   ]
  },
  {
   "cell_type": "code",
   "execution_count": 107,
   "id": "c6d27bb2",
   "metadata": {},
   "outputs": [
    {
     "data": {
      "text/plain": [
       "Timedelta('5 days 00:00:00')"
      ]
     },
     "execution_count": 107,
     "metadata": {},
     "output_type": "execute_result"
    }
   ],
   "source": [
    "a.date[15] - a.date[10]"
   ]
  },
  {
   "cell_type": "code",
   "execution_count": 108,
   "id": "20041ab3",
   "metadata": {},
   "outputs": [
    {
     "data": {
      "text/plain": [
       "Timedelta('5 days 00:00:00')"
      ]
     },
     "execution_count": 108,
     "metadata": {},
     "output_type": "execute_result"
    }
   ],
   "source": [
    "a.date.iloc[5] - a.date.iloc[0]"
   ]
  },
  {
   "cell_type": "code",
   "execution_count": 109,
   "id": "95e9715a",
   "metadata": {},
   "outputs": [
    {
     "data": {
      "text/plain": [
       "date    5 days 00:00:00\n",
       "rate           -0.00675\n",
       "dtype: object"
      ]
     },
     "execution_count": 109,
     "metadata": {},
     "output_type": "execute_result"
    }
   ],
   "source": [
    "df[df[\"currency\"] == \"GBP\"][[\"date\",\"rate\"]].iloc[9] - df[df[\"currency\"] == \"GBP\"][[\"date\",\"rate\"]].iloc[4]"
   ]
  },
  {
   "cell_type": "code",
   "execution_count": 112,
   "id": "4da33d94",
   "metadata": {},
   "outputs": [
    {
     "data": {
      "text/plain": [
       "date    2020-08-10 00:00:00\n",
       "rate                0.89775\n",
       "Name: 19, dtype: object"
      ]
     },
     "execution_count": 112,
     "metadata": {},
     "output_type": "execute_result"
    }
   ],
   "source": [
    "df[df[\"currency\"] == \"GBP\"][[\"date\",\"rate\"]].iloc[9]"
   ]
  },
  {
   "cell_type": "code",
   "execution_count": 117,
   "id": "c6cb8219",
   "metadata": {},
   "outputs": [
    {
     "data": {
      "text/plain": [
       "0      2020\n",
       "1      2020\n",
       "2      2020\n",
       "3      2020\n",
       "4      2020\n",
       "       ... \n",
       "215    2020\n",
       "216    2020\n",
       "217    2020\n",
       "218    2020\n",
       "219    2020\n",
       "Name: date, Length: 220, dtype: int64"
      ]
     },
     "execution_count": 117,
     "metadata": {},
     "output_type": "execute_result"
    }
   ],
   "source": [
    "df[\"date\"].dt.year"
   ]
  },
  {
   "cell_type": "code",
   "execution_count": 118,
   "id": "f64c90fd",
   "metadata": {},
   "outputs": [
    {
     "name": "stderr",
     "output_type": "stream",
     "text": [
      "C:\\Users\\ASUS\\AppData\\Local\\Temp/ipykernel_5992/211731.py:1: FutureWarning: Series.dt.weekofyear and Series.dt.week have been deprecated.  Please use Series.dt.isocalendar().week instead.\n",
      "  df[\"date\"].dt.weekofyear\n"
     ]
    },
    {
     "data": {
      "text/plain": [
       "0      31\n",
       "1      31\n",
       "2      32\n",
       "3      32\n",
       "4      32\n",
       "       ..\n",
       "215    32\n",
       "216    32\n",
       "217    32\n",
       "218    32\n",
       "219    33\n",
       "Name: date, Length: 220, dtype: int64"
      ]
     },
     "execution_count": 118,
     "metadata": {},
     "output_type": "execute_result"
    }
   ],
   "source": [
    "df[\"date\"].dt.weekofyear"
   ]
  },
  {
   "cell_type": "code",
   "execution_count": 121,
   "id": "d67a2ae5",
   "metadata": {},
   "outputs": [
    {
     "data": {
      "text/plain": [
       "0      True\n",
       "1      True\n",
       "2      True\n",
       "3      True\n",
       "4      True\n",
       "       ... \n",
       "215    True\n",
       "216    True\n",
       "217    True\n",
       "218    True\n",
       "219    True\n",
       "Name: date, Length: 220, dtype: bool"
      ]
     },
     "execution_count": 121,
     "metadata": {},
     "output_type": "execute_result"
    }
   ],
   "source": [
    "df[\"date\"].dt.is_leap_year"
   ]
  },
  {
   "cell_type": "code",
   "execution_count": 123,
   "id": "f9eb624e",
   "metadata": {},
   "outputs": [
    {
     "data": {
      "text/plain": [
       "0       Saturday\n",
       "1         Sunday\n",
       "2         Monday\n",
       "3        Tuesday\n",
       "4      Wednesday\n",
       "         ...    \n",
       "215     Thursday\n",
       "216       Friday\n",
       "217     Saturday\n",
       "218       Sunday\n",
       "219       Monday\n",
       "Name: date, Length: 220, dtype: object"
      ]
     },
     "execution_count": 123,
     "metadata": {},
     "output_type": "execute_result"
    }
   ],
   "source": [
    "df[\"date\"].dt.day_name()"
   ]
  },
  {
   "cell_type": "code",
   "execution_count": 124,
   "id": "645652f4",
   "metadata": {},
   "outputs": [
    {
     "data": {
      "text/plain": [
       "Saturday     44\n",
       "Sunday       44\n",
       "Monday       44\n",
       "Tuesday      22\n",
       "Wednesday    22\n",
       "Thursday     22\n",
       "Friday       22\n",
       "Name: date, dtype: int64"
      ]
     },
     "execution_count": 124,
     "metadata": {},
     "output_type": "execute_result"
    }
   ],
   "source": [
    "df[\"date\"].dt.day_name().value_counts()"
   ]
  },
  {
   "cell_type": "code",
   "execution_count": 127,
   "id": "d120d323",
   "metadata": {},
   "outputs": [
    {
     "name": "stdout",
     "output_type": "stream",
     "text": [
      "<class 'pandas.core.frame.DataFrame'>\n",
      "RangeIndex: 220 entries, 0 to 219\n",
      "Data columns (total 3 columns):\n",
      " #   Column    Non-Null Count  Dtype         \n",
      "---  ------    --------------  -----         \n",
      " 0   currency  220 non-null    object        \n",
      " 1   date      220 non-null    datetime64[ns]\n",
      " 2   rate      220 non-null    float64       \n",
      "dtypes: datetime64[ns](1), float64(1), object(1)\n",
      "memory usage: 5.3+ KB\n"
     ]
    }
   ],
   "source": [
    "df.info()"
   ]
  },
  {
   "cell_type": "code",
   "execution_count": 128,
   "id": "0e283a41",
   "metadata": {},
   "outputs": [
    {
     "data": {
      "text/html": [
       "<div>\n",
       "<style scoped>\n",
       "    .dataframe tbody tr th:only-of-type {\n",
       "        vertical-align: middle;\n",
       "    }\n",
       "\n",
       "    .dataframe tbody tr th {\n",
       "        vertical-align: top;\n",
       "    }\n",
       "\n",
       "    .dataframe thead th {\n",
       "        text-align: right;\n",
       "    }\n",
       "</style>\n",
       "<table border=\"1\" class=\"dataframe\">\n",
       "  <thead>\n",
       "    <tr style=\"text-align: right;\">\n",
       "      <th></th>\n",
       "      <th>currency</th>\n",
       "      <th>date</th>\n",
       "      <th>rate</th>\n",
       "    </tr>\n",
       "  </thead>\n",
       "  <tbody>\n",
       "    <tr>\n",
       "      <th>2</th>\n",
       "      <td>EUR</td>\n",
       "      <td>2020-08-03</td>\n",
       "      <td>1.0000</td>\n",
       "    </tr>\n",
       "    <tr>\n",
       "      <th>3</th>\n",
       "      <td>EUR</td>\n",
       "      <td>2020-08-04</td>\n",
       "      <td>1.0000</td>\n",
       "    </tr>\n",
       "    <tr>\n",
       "      <th>4</th>\n",
       "      <td>EUR</td>\n",
       "      <td>2020-08-05</td>\n",
       "      <td>1.0000</td>\n",
       "    </tr>\n",
       "    <tr>\n",
       "      <th>5</th>\n",
       "      <td>EUR</td>\n",
       "      <td>2020-08-06</td>\n",
       "      <td>1.0000</td>\n",
       "    </tr>\n",
       "    <tr>\n",
       "      <th>6</th>\n",
       "      <td>EUR</td>\n",
       "      <td>2020-08-07</td>\n",
       "      <td>1.0000</td>\n",
       "    </tr>\n",
       "    <tr>\n",
       "      <th>...</th>\n",
       "      <td>...</td>\n",
       "      <td>...</td>\n",
       "      <td>...</td>\n",
       "    </tr>\n",
       "    <tr>\n",
       "      <th>214</th>\n",
       "      <td>BRL</td>\n",
       "      <td>2020-08-05</td>\n",
       "      <td>6.2839</td>\n",
       "    </tr>\n",
       "    <tr>\n",
       "      <th>215</th>\n",
       "      <td>BRL</td>\n",
       "      <td>2020-08-06</td>\n",
       "      <td>6.3324</td>\n",
       "    </tr>\n",
       "    <tr>\n",
       "      <th>216</th>\n",
       "      <td>BRL</td>\n",
       "      <td>2020-08-07</td>\n",
       "      <td>6.4111</td>\n",
       "    </tr>\n",
       "    <tr>\n",
       "      <th>217</th>\n",
       "      <td>BRL</td>\n",
       "      <td>2020-08-08</td>\n",
       "      <td>6.4111</td>\n",
       "    </tr>\n",
       "    <tr>\n",
       "      <th>218</th>\n",
       "      <td>BRL</td>\n",
       "      <td>2020-08-09</td>\n",
       "      <td>6.4111</td>\n",
       "    </tr>\n",
       "  </tbody>\n",
       "</table>\n",
       "<p>154 rows × 3 columns</p>\n",
       "</div>"
      ],
      "text/plain": [
       "    currency       date    rate\n",
       "2        EUR 2020-08-03  1.0000\n",
       "3        EUR 2020-08-04  1.0000\n",
       "4        EUR 2020-08-05  1.0000\n",
       "5        EUR 2020-08-06  1.0000\n",
       "6        EUR 2020-08-07  1.0000\n",
       "..       ...        ...     ...\n",
       "214      BRL 2020-08-05  6.2839\n",
       "215      BRL 2020-08-06  6.3324\n",
       "216      BRL 2020-08-07  6.4111\n",
       "217      BRL 2020-08-08  6.4111\n",
       "218      BRL 2020-08-09  6.4111\n",
       "\n",
       "[154 rows x 3 columns]"
      ]
     },
     "execution_count": 128,
     "metadata": {},
     "output_type": "execute_result"
    }
   ],
   "source": [
    "df[df[\"date\"].between(\"2020-08-03\", \"2020-08-09\")]"
   ]
  },
  {
   "cell_type": "code",
   "execution_count": 129,
   "id": "3c6c52d6",
   "metadata": {},
   "outputs": [
    {
     "data": {
      "text/html": [
       "<div>\n",
       "<style scoped>\n",
       "    .dataframe tbody tr th:only-of-type {\n",
       "        vertical-align: middle;\n",
       "    }\n",
       "\n",
       "    .dataframe tbody tr th {\n",
       "        vertical-align: top;\n",
       "    }\n",
       "\n",
       "    .dataframe thead th {\n",
       "        text-align: right;\n",
       "    }\n",
       "</style>\n",
       "<table border=\"1\" class=\"dataframe\">\n",
       "  <thead>\n",
       "    <tr style=\"text-align: right;\">\n",
       "      <th></th>\n",
       "      <th>currency</th>\n",
       "      <th>date</th>\n",
       "      <th>rate</th>\n",
       "    </tr>\n",
       "  </thead>\n",
       "  <tbody>\n",
       "    <tr>\n",
       "      <th>3</th>\n",
       "      <td>EUR</td>\n",
       "      <td>2020-08-04</td>\n",
       "      <td>1.0000</td>\n",
       "    </tr>\n",
       "    <tr>\n",
       "      <th>4</th>\n",
       "      <td>EUR</td>\n",
       "      <td>2020-08-05</td>\n",
       "      <td>1.0000</td>\n",
       "    </tr>\n",
       "    <tr>\n",
       "      <th>5</th>\n",
       "      <td>EUR</td>\n",
       "      <td>2020-08-06</td>\n",
       "      <td>1.0000</td>\n",
       "    </tr>\n",
       "    <tr>\n",
       "      <th>6</th>\n",
       "      <td>EUR</td>\n",
       "      <td>2020-08-07</td>\n",
       "      <td>1.0000</td>\n",
       "    </tr>\n",
       "    <tr>\n",
       "      <th>7</th>\n",
       "      <td>EUR</td>\n",
       "      <td>2020-08-08</td>\n",
       "      <td>1.0000</td>\n",
       "    </tr>\n",
       "    <tr>\n",
       "      <th>...</th>\n",
       "      <td>...</td>\n",
       "      <td>...</td>\n",
       "      <td>...</td>\n",
       "    </tr>\n",
       "    <tr>\n",
       "      <th>213</th>\n",
       "      <td>BRL</td>\n",
       "      <td>2020-08-04</td>\n",
       "      <td>6.2504</td>\n",
       "    </tr>\n",
       "    <tr>\n",
       "      <th>214</th>\n",
       "      <td>BRL</td>\n",
       "      <td>2020-08-05</td>\n",
       "      <td>6.2839</td>\n",
       "    </tr>\n",
       "    <tr>\n",
       "      <th>215</th>\n",
       "      <td>BRL</td>\n",
       "      <td>2020-08-06</td>\n",
       "      <td>6.3324</td>\n",
       "    </tr>\n",
       "    <tr>\n",
       "      <th>216</th>\n",
       "      <td>BRL</td>\n",
       "      <td>2020-08-07</td>\n",
       "      <td>6.4111</td>\n",
       "    </tr>\n",
       "    <tr>\n",
       "      <th>217</th>\n",
       "      <td>BRL</td>\n",
       "      <td>2020-08-08</td>\n",
       "      <td>6.4111</td>\n",
       "    </tr>\n",
       "  </tbody>\n",
       "</table>\n",
       "<p>110 rows × 3 columns</p>\n",
       "</div>"
      ],
      "text/plain": [
       "    currency       date    rate\n",
       "3        EUR 2020-08-04  1.0000\n",
       "4        EUR 2020-08-05  1.0000\n",
       "5        EUR 2020-08-06  1.0000\n",
       "6        EUR 2020-08-07  1.0000\n",
       "7        EUR 2020-08-08  1.0000\n",
       "..       ...        ...     ...\n",
       "213      BRL 2020-08-04  6.2504\n",
       "214      BRL 2020-08-05  6.2839\n",
       "215      BRL 2020-08-06  6.3324\n",
       "216      BRL 2020-08-07  6.4111\n",
       "217      BRL 2020-08-08  6.4111\n",
       "\n",
       "[110 rows x 3 columns]"
      ]
     },
     "execution_count": 129,
     "metadata": {},
     "output_type": "execute_result"
    }
   ],
   "source": [
    "df[df[\"date\"].between(\"2020-08-03\", \"2020-08-09\", inclusive=\"neither\")]"
   ]
  },
  {
   "cell_type": "code",
   "execution_count": 130,
   "id": "8b5a3887",
   "metadata": {},
   "outputs": [
    {
     "data": {
      "text/html": [
       "<div>\n",
       "<style scoped>\n",
       "    .dataframe tbody tr th:only-of-type {\n",
       "        vertical-align: middle;\n",
       "    }\n",
       "\n",
       "    .dataframe tbody tr th {\n",
       "        vertical-align: top;\n",
       "    }\n",
       "\n",
       "    .dataframe thead th {\n",
       "        text-align: right;\n",
       "    }\n",
       "</style>\n",
       "<table border=\"1\" class=\"dataframe\">\n",
       "  <thead>\n",
       "    <tr style=\"text-align: right;\">\n",
       "      <th></th>\n",
       "      <th>currency</th>\n",
       "      <th>date</th>\n",
       "      <th>rate</th>\n",
       "    </tr>\n",
       "  </thead>\n",
       "  <tbody>\n",
       "    <tr>\n",
       "      <th>0</th>\n",
       "      <td>EUR</td>\n",
       "      <td>2020-08-01</td>\n",
       "      <td>1.000000</td>\n",
       "    </tr>\n",
       "    <tr>\n",
       "      <th>1</th>\n",
       "      <td>EUR</td>\n",
       "      <td>2020-08-02</td>\n",
       "      <td>1.000000</td>\n",
       "    </tr>\n",
       "    <tr>\n",
       "      <th>10</th>\n",
       "      <td>GBP</td>\n",
       "      <td>2020-08-01</td>\n",
       "      <td>0.900185</td>\n",
       "    </tr>\n",
       "    <tr>\n",
       "      <th>11</th>\n",
       "      <td>GBP</td>\n",
       "      <td>2020-08-02</td>\n",
       "      <td>0.899325</td>\n",
       "    </tr>\n",
       "    <tr>\n",
       "      <th>20</th>\n",
       "      <td>USD</td>\n",
       "      <td>2020-08-01</td>\n",
       "      <td>1.177760</td>\n",
       "    </tr>\n",
       "    <tr>\n",
       "      <th>21</th>\n",
       "      <td>USD</td>\n",
       "      <td>2020-08-02</td>\n",
       "      <td>1.178035</td>\n",
       "    </tr>\n",
       "    <tr>\n",
       "      <th>30</th>\n",
       "      <td>AUD</td>\n",
       "      <td>2020-08-01</td>\n",
       "      <td>1.648971</td>\n",
       "    </tr>\n",
       "    <tr>\n",
       "      <th>31</th>\n",
       "      <td>AUD</td>\n",
       "      <td>2020-08-02</td>\n",
       "      <td>1.648640</td>\n",
       "    </tr>\n",
       "    <tr>\n",
       "      <th>40</th>\n",
       "      <td>CAD</td>\n",
       "      <td>2020-08-01</td>\n",
       "      <td>1.579445</td>\n",
       "    </tr>\n",
       "    <tr>\n",
       "      <th>41</th>\n",
       "      <td>CAD</td>\n",
       "      <td>2020-08-02</td>\n",
       "      <td>1.578570</td>\n",
       "    </tr>\n",
       "    <tr>\n",
       "      <th>50</th>\n",
       "      <td>NZD</td>\n",
       "      <td>2020-08-01</td>\n",
       "      <td>1.777575</td>\n",
       "    </tr>\n",
       "    <tr>\n",
       "      <th>51</th>\n",
       "      <td>NZD</td>\n",
       "      <td>2020-08-02</td>\n",
       "      <td>1.775400</td>\n",
       "    </tr>\n",
       "    <tr>\n",
       "      <th>60</th>\n",
       "      <td>HKD</td>\n",
       "      <td>2020-08-01</td>\n",
       "      <td>9.129470</td>\n",
       "    </tr>\n",
       "    <tr>\n",
       "      <th>61</th>\n",
       "      <td>HKD</td>\n",
       "      <td>2020-08-02</td>\n",
       "      <td>9.131170</td>\n",
       "    </tr>\n",
       "    <tr>\n",
       "      <th>70</th>\n",
       "      <td>CHF</td>\n",
       "      <td>2020-08-01</td>\n",
       "      <td>1.075795</td>\n",
       "    </tr>\n",
       "    <tr>\n",
       "      <th>71</th>\n",
       "      <td>CHF</td>\n",
       "      <td>2020-08-02</td>\n",
       "      <td>1.076325</td>\n",
       "    </tr>\n",
       "    <tr>\n",
       "      <th>80</th>\n",
       "      <td>SEK</td>\n",
       "      <td>2020-08-01</td>\n",
       "      <td>10.343720</td>\n",
       "    </tr>\n",
       "    <tr>\n",
       "      <th>81</th>\n",
       "      <td>SEK</td>\n",
       "      <td>2020-08-02</td>\n",
       "      <td>10.341820</td>\n",
       "    </tr>\n",
       "    <tr>\n",
       "      <th>90</th>\n",
       "      <td>DKK</td>\n",
       "      <td>2020-08-01</td>\n",
       "      <td>7.447400</td>\n",
       "    </tr>\n",
       "    <tr>\n",
       "      <th>91</th>\n",
       "      <td>DKK</td>\n",
       "      <td>2020-08-02</td>\n",
       "      <td>7.448260</td>\n",
       "    </tr>\n",
       "    <tr>\n",
       "      <th>100</th>\n",
       "      <td>ILS</td>\n",
       "      <td>2020-08-01</td>\n",
       "      <td>4.024000</td>\n",
       "    </tr>\n",
       "    <tr>\n",
       "      <th>101</th>\n",
       "      <td>ILS</td>\n",
       "      <td>2020-08-02</td>\n",
       "      <td>4.022750</td>\n",
       "    </tr>\n",
       "    <tr>\n",
       "      <th>110</th>\n",
       "      <td>PLN</td>\n",
       "      <td>2020-08-01</td>\n",
       "      <td>4.415550</td>\n",
       "    </tr>\n",
       "    <tr>\n",
       "      <th>111</th>\n",
       "      <td>PLN</td>\n",
       "      <td>2020-08-02</td>\n",
       "      <td>4.424015</td>\n",
       "    </tr>\n",
       "    <tr>\n",
       "      <th>120</th>\n",
       "      <td>THB</td>\n",
       "      <td>2020-08-01</td>\n",
       "      <td>36.821000</td>\n",
       "    </tr>\n",
       "    <tr>\n",
       "      <th>121</th>\n",
       "      <td>THB</td>\n",
       "      <td>2020-08-02</td>\n",
       "      <td>36.821000</td>\n",
       "    </tr>\n",
       "    <tr>\n",
       "      <th>130</th>\n",
       "      <td>MXN</td>\n",
       "      <td>2020-08-01</td>\n",
       "      <td>26.239400</td>\n",
       "    </tr>\n",
       "    <tr>\n",
       "      <th>131</th>\n",
       "      <td>MXN</td>\n",
       "      <td>2020-08-02</td>\n",
       "      <td>26.244750</td>\n",
       "    </tr>\n",
       "    <tr>\n",
       "      <th>140</th>\n",
       "      <td>JPY</td>\n",
       "      <td>2020-08-01</td>\n",
       "      <td>124.756100</td>\n",
       "    </tr>\n",
       "    <tr>\n",
       "      <th>141</th>\n",
       "      <td>JPY</td>\n",
       "      <td>2020-08-02</td>\n",
       "      <td>124.733500</td>\n",
       "    </tr>\n",
       "    <tr>\n",
       "      <th>150</th>\n",
       "      <td>NOK</td>\n",
       "      <td>2020-08-01</td>\n",
       "      <td>10.713900</td>\n",
       "    </tr>\n",
       "    <tr>\n",
       "      <th>151</th>\n",
       "      <td>NOK</td>\n",
       "      <td>2020-08-02</td>\n",
       "      <td>10.725300</td>\n",
       "    </tr>\n",
       "    <tr>\n",
       "      <th>160</th>\n",
       "      <td>SGD</td>\n",
       "      <td>2020-08-01</td>\n",
       "      <td>1.619680</td>\n",
       "    </tr>\n",
       "    <tr>\n",
       "      <th>161</th>\n",
       "      <td>SGD</td>\n",
       "      <td>2020-08-02</td>\n",
       "      <td>1.619715</td>\n",
       "    </tr>\n",
       "    <tr>\n",
       "      <th>170</th>\n",
       "      <td>MYR</td>\n",
       "      <td>2020-08-01</td>\n",
       "      <td>5.023700</td>\n",
       "    </tr>\n",
       "    <tr>\n",
       "      <th>171</th>\n",
       "      <td>MYR</td>\n",
       "      <td>2020-08-02</td>\n",
       "      <td>5.023700</td>\n",
       "    </tr>\n",
       "    <tr>\n",
       "      <th>180</th>\n",
       "      <td>TWD</td>\n",
       "      <td>2020-08-01</td>\n",
       "      <td>34.738900</td>\n",
       "    </tr>\n",
       "    <tr>\n",
       "      <th>181</th>\n",
       "      <td>TWD</td>\n",
       "      <td>2020-08-02</td>\n",
       "      <td>34.738900</td>\n",
       "    </tr>\n",
       "    <tr>\n",
       "      <th>190</th>\n",
       "      <td>HUF</td>\n",
       "      <td>2020-08-01</td>\n",
       "      <td>344.059000</td>\n",
       "    </tr>\n",
       "    <tr>\n",
       "      <th>191</th>\n",
       "      <td>HUF</td>\n",
       "      <td>2020-08-02</td>\n",
       "      <td>344.425000</td>\n",
       "    </tr>\n",
       "    <tr>\n",
       "      <th>200</th>\n",
       "      <td>CZK</td>\n",
       "      <td>2020-08-01</td>\n",
       "      <td>26.241000</td>\n",
       "    </tr>\n",
       "    <tr>\n",
       "      <th>201</th>\n",
       "      <td>CZK</td>\n",
       "      <td>2020-08-02</td>\n",
       "      <td>26.257050</td>\n",
       "    </tr>\n",
       "    <tr>\n",
       "      <th>210</th>\n",
       "      <td>BRL</td>\n",
       "      <td>2020-08-01</td>\n",
       "      <td>6.134300</td>\n",
       "    </tr>\n",
       "    <tr>\n",
       "      <th>211</th>\n",
       "      <td>BRL</td>\n",
       "      <td>2020-08-02</td>\n",
       "      <td>6.134300</td>\n",
       "    </tr>\n",
       "  </tbody>\n",
       "</table>\n",
       "</div>"
      ],
      "text/plain": [
       "    currency       date        rate\n",
       "0        EUR 2020-08-01    1.000000\n",
       "1        EUR 2020-08-02    1.000000\n",
       "10       GBP 2020-08-01    0.900185\n",
       "11       GBP 2020-08-02    0.899325\n",
       "20       USD 2020-08-01    1.177760\n",
       "21       USD 2020-08-02    1.178035\n",
       "30       AUD 2020-08-01    1.648971\n",
       "31       AUD 2020-08-02    1.648640\n",
       "40       CAD 2020-08-01    1.579445\n",
       "41       CAD 2020-08-02    1.578570\n",
       "50       NZD 2020-08-01    1.777575\n",
       "51       NZD 2020-08-02    1.775400\n",
       "60       HKD 2020-08-01    9.129470\n",
       "61       HKD 2020-08-02    9.131170\n",
       "70       CHF 2020-08-01    1.075795\n",
       "71       CHF 2020-08-02    1.076325\n",
       "80       SEK 2020-08-01   10.343720\n",
       "81       SEK 2020-08-02   10.341820\n",
       "90       DKK 2020-08-01    7.447400\n",
       "91       DKK 2020-08-02    7.448260\n",
       "100      ILS 2020-08-01    4.024000\n",
       "101      ILS 2020-08-02    4.022750\n",
       "110      PLN 2020-08-01    4.415550\n",
       "111      PLN 2020-08-02    4.424015\n",
       "120      THB 2020-08-01   36.821000\n",
       "121      THB 2020-08-02   36.821000\n",
       "130      MXN 2020-08-01   26.239400\n",
       "131      MXN 2020-08-02   26.244750\n",
       "140      JPY 2020-08-01  124.756100\n",
       "141      JPY 2020-08-02  124.733500\n",
       "150      NOK 2020-08-01   10.713900\n",
       "151      NOK 2020-08-02   10.725300\n",
       "160      SGD 2020-08-01    1.619680\n",
       "161      SGD 2020-08-02    1.619715\n",
       "170      MYR 2020-08-01    5.023700\n",
       "171      MYR 2020-08-02    5.023700\n",
       "180      TWD 2020-08-01   34.738900\n",
       "181      TWD 2020-08-02   34.738900\n",
       "190      HUF 2020-08-01  344.059000\n",
       "191      HUF 2020-08-02  344.425000\n",
       "200      CZK 2020-08-01   26.241000\n",
       "201      CZK 2020-08-02   26.257050\n",
       "210      BRL 2020-08-01    6.134300\n",
       "211      BRL 2020-08-02    6.134300"
      ]
     },
     "execution_count": 130,
     "metadata": {},
     "output_type": "execute_result"
    }
   ],
   "source": [
    "df[df[\"date\"] < \"2020-08-03\"]"
   ]
  },
  {
   "cell_type": "code",
   "execution_count": 131,
   "id": "a7aa9514",
   "metadata": {},
   "outputs": [
    {
     "data": {
      "text/html": [
       "<div>\n",
       "<style scoped>\n",
       "    .dataframe tbody tr th:only-of-type {\n",
       "        vertical-align: middle;\n",
       "    }\n",
       "\n",
       "    .dataframe tbody tr th {\n",
       "        vertical-align: top;\n",
       "    }\n",
       "\n",
       "    .dataframe thead th {\n",
       "        text-align: right;\n",
       "    }\n",
       "</style>\n",
       "<table border=\"1\" class=\"dataframe\">\n",
       "  <thead>\n",
       "    <tr style=\"text-align: right;\">\n",
       "      <th></th>\n",
       "      <th>rate</th>\n",
       "    </tr>\n",
       "    <tr>\n",
       "      <th>currency</th>\n",
       "      <th></th>\n",
       "    </tr>\n",
       "  </thead>\n",
       "  <tbody>\n",
       "    <tr>\n",
       "      <th>AUD</th>\n",
       "      <td>1.648805</td>\n",
       "    </tr>\n",
       "    <tr>\n",
       "      <th>BRL</th>\n",
       "      <td>6.134300</td>\n",
       "    </tr>\n",
       "    <tr>\n",
       "      <th>CAD</th>\n",
       "      <td>1.579007</td>\n",
       "    </tr>\n",
       "    <tr>\n",
       "      <th>CHF</th>\n",
       "      <td>1.076060</td>\n",
       "    </tr>\n",
       "    <tr>\n",
       "      <th>CZK</th>\n",
       "      <td>26.249025</td>\n",
       "    </tr>\n",
       "    <tr>\n",
       "      <th>DKK</th>\n",
       "      <td>7.447830</td>\n",
       "    </tr>\n",
       "    <tr>\n",
       "      <th>EUR</th>\n",
       "      <td>1.000000</td>\n",
       "    </tr>\n",
       "    <tr>\n",
       "      <th>GBP</th>\n",
       "      <td>0.899755</td>\n",
       "    </tr>\n",
       "    <tr>\n",
       "      <th>HKD</th>\n",
       "      <td>9.130320</td>\n",
       "    </tr>\n",
       "    <tr>\n",
       "      <th>HUF</th>\n",
       "      <td>344.242000</td>\n",
       "    </tr>\n",
       "    <tr>\n",
       "      <th>ILS</th>\n",
       "      <td>4.023375</td>\n",
       "    </tr>\n",
       "    <tr>\n",
       "      <th>JPY</th>\n",
       "      <td>124.744800</td>\n",
       "    </tr>\n",
       "    <tr>\n",
       "      <th>MXN</th>\n",
       "      <td>26.242075</td>\n",
       "    </tr>\n",
       "    <tr>\n",
       "      <th>MYR</th>\n",
       "      <td>5.023700</td>\n",
       "    </tr>\n",
       "    <tr>\n",
       "      <th>NOK</th>\n",
       "      <td>10.719600</td>\n",
       "    </tr>\n",
       "    <tr>\n",
       "      <th>NZD</th>\n",
       "      <td>1.776487</td>\n",
       "    </tr>\n",
       "    <tr>\n",
       "      <th>PLN</th>\n",
       "      <td>4.419783</td>\n",
       "    </tr>\n",
       "    <tr>\n",
       "      <th>SEK</th>\n",
       "      <td>10.342770</td>\n",
       "    </tr>\n",
       "    <tr>\n",
       "      <th>SGD</th>\n",
       "      <td>1.619698</td>\n",
       "    </tr>\n",
       "    <tr>\n",
       "      <th>THB</th>\n",
       "      <td>36.821000</td>\n",
       "    </tr>\n",
       "    <tr>\n",
       "      <th>TWD</th>\n",
       "      <td>34.738900</td>\n",
       "    </tr>\n",
       "    <tr>\n",
       "      <th>USD</th>\n",
       "      <td>1.177897</td>\n",
       "    </tr>\n",
       "  </tbody>\n",
       "</table>\n",
       "</div>"
      ],
      "text/plain": [
       "                rate\n",
       "currency            \n",
       "AUD         1.648805\n",
       "BRL         6.134300\n",
       "CAD         1.579007\n",
       "CHF         1.076060\n",
       "CZK        26.249025\n",
       "DKK         7.447830\n",
       "EUR         1.000000\n",
       "GBP         0.899755\n",
       "HKD         9.130320\n",
       "HUF       344.242000\n",
       "ILS         4.023375\n",
       "JPY       124.744800\n",
       "MXN        26.242075\n",
       "MYR         5.023700\n",
       "NOK        10.719600\n",
       "NZD         1.776487\n",
       "PLN         4.419783\n",
       "SEK        10.342770\n",
       "SGD         1.619698\n",
       "THB        36.821000\n",
       "TWD        34.738900\n",
       "USD         1.177897"
      ]
     },
     "execution_count": 131,
     "metadata": {},
     "output_type": "execute_result"
    }
   ],
   "source": [
    "df[df[\"date\"] < \"2020-08-03\"].groupby(\"currency\").mean()"
   ]
  },
  {
   "cell_type": "code",
   "execution_count": 132,
   "id": "001098be",
   "metadata": {},
   "outputs": [
    {
     "data": {
      "text/plain": [
       "DatetimeIndex(['2020-01-01', '2020-01-02', '2020-01-03', '2020-01-04',\n",
       "               '2020-01-05', '2020-01-06', '2020-01-07', '2020-01-08',\n",
       "               '2020-01-09', '2020-01-10'],\n",
       "              dtype='datetime64[ns]', freq='D')"
      ]
     },
     "execution_count": 132,
     "metadata": {},
     "output_type": "execute_result"
    }
   ],
   "source": [
    "pd.date_range(\"2020-01-01\", periods=10)"
   ]
  },
  {
   "cell_type": "code",
   "execution_count": 133,
   "id": "debf89ca",
   "metadata": {},
   "outputs": [
    {
     "data": {
      "text/plain": [
       "DatetimeIndex(['2020-01-31', '2020-02-29', '2020-03-31', '2020-04-30',\n",
       "               '2020-05-31', '2020-06-30', '2020-07-31', '2020-08-31',\n",
       "               '2020-09-30', '2020-10-31'],\n",
       "              dtype='datetime64[ns]', freq='M')"
      ]
     },
     "execution_count": 133,
     "metadata": {},
     "output_type": "execute_result"
    }
   ],
   "source": [
    "pd.date_range(\"2020-01-01\", periods=10, freq=\"M\")"
   ]
  },
  {
   "cell_type": "code",
   "execution_count": null,
   "id": "7f7ebeac",
   "metadata": {},
   "outputs": [],
   "source": []
  },
  {
   "cell_type": "code",
   "execution_count": null,
   "id": "7e53b60a",
   "metadata": {},
   "outputs": [],
   "source": []
  }
 ],
 "metadata": {
  "kernelspec": {
   "display_name": "Python 3 (ipykernel)",
   "language": "python",
   "name": "python3"
  },
  "language_info": {
   "codemirror_mode": {
    "name": "ipython",
    "version": 3
   },
   "file_extension": ".py",
   "mimetype": "text/x-python",
   "name": "python",
   "nbconvert_exporter": "python",
   "pygments_lexer": "ipython3",
   "version": "3.9.7"
  }
 },
 "nbformat": 4,
 "nbformat_minor": 5
}
