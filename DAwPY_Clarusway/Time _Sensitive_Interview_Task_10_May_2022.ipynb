{
 "cells": [
  {
   "cell_type": "code",
   "execution_count": 130,
   "id": "b7e16235",
   "metadata": {},
   "outputs": [],
   "source": [
    "import numpy as np\n",
    "import pandas as pd\n",
    "import seaborn as sns"
   ]
  },
  {
   "cell_type": "code",
   "execution_count": 139,
   "id": "2275e162",
   "metadata": {},
   "outputs": [],
   "source": [
    "sales = pd.read_csv(\"sales_082020.csv\")\n",
    "cur_rates = pd.read_csv(\"currency_rates_082020_EUR.csv\")"
   ]
  },
  {
   "cell_type": "code",
   "execution_count": 132,
   "id": "3bab10fb",
   "metadata": {},
   "outputs": [
    {
     "name": "stdout",
     "output_type": "stream",
     "text": [
      "<class 'pandas.core.frame.DataFrame'>\n",
      "RangeIndex: 237671 entries, 0 to 237670\n",
      "Data columns (total 10 columns):\n",
      " #   Column          Non-Null Count   Dtype  \n",
      "---  ------          --------------   -----  \n",
      " 0   buyer_id        237671 non-null  object \n",
      " 1   buyer_country   237671 non-null  object \n",
      " 2   seller_id       237671 non-null  object \n",
      " 3   seller_country  237671 non-null  object \n",
      " 4   product_code    237671 non-null  object \n",
      " 5   category        237655 non-null  object \n",
      " 6   brand           119330 non-null  object \n",
      " 7   currency        237671 non-null  object \n",
      " 8   price           237671 non-null  float64\n",
      " 9   date            237671 non-null  object \n",
      "dtypes: float64(1), object(9)\n",
      "memory usage: 18.1+ MB\n"
     ]
    }
   ],
   "source": [
    "sales.info()"
   ]
  },
  {
   "cell_type": "code",
   "execution_count": 133,
   "id": "97e72460",
   "metadata": {},
   "outputs": [
    {
     "data": {
      "text/html": [
       "<div>\n",
       "<style scoped>\n",
       "    .dataframe tbody tr th:only-of-type {\n",
       "        vertical-align: middle;\n",
       "    }\n",
       "\n",
       "    .dataframe tbody tr th {\n",
       "        vertical-align: top;\n",
       "    }\n",
       "\n",
       "    .dataframe thead th {\n",
       "        text-align: right;\n",
       "    }\n",
       "</style>\n",
       "<table border=\"1\" class=\"dataframe\">\n",
       "  <thead>\n",
       "    <tr style=\"text-align: right;\">\n",
       "      <th></th>\n",
       "      <th>buyer_id</th>\n",
       "      <th>buyer_country</th>\n",
       "      <th>seller_id</th>\n",
       "      <th>seller_country</th>\n",
       "      <th>product_code</th>\n",
       "      <th>category</th>\n",
       "      <th>brand</th>\n",
       "      <th>currency</th>\n",
       "      <th>price</th>\n",
       "      <th>date</th>\n",
       "    </tr>\n",
       "  </thead>\n",
       "  <tbody>\n",
       "    <tr>\n",
       "      <th>0</th>\n",
       "      <td>qzpjsi9t0o</td>\n",
       "      <td>GB</td>\n",
       "      <td>6oufpaot</td>\n",
       "      <td>GB</td>\n",
       "      <td>ydecnydr6obf</td>\n",
       "      <td>Dresses</td>\n",
       "      <td>NaN</td>\n",
       "      <td>GBP</td>\n",
       "      <td>19.11</td>\n",
       "      <td>2020-08-03</td>\n",
       "    </tr>\n",
       "    <tr>\n",
       "      <th>1</th>\n",
       "      <td>o79pns1qwo</td>\n",
       "      <td>GB</td>\n",
       "      <td>50xki2yg</td>\n",
       "      <td>GB</td>\n",
       "      <td>38chj507o6h2</td>\n",
       "      <td>Outerwear</td>\n",
       "      <td>Adidas Originals</td>\n",
       "      <td>GBP</td>\n",
       "      <td>15.92</td>\n",
       "      <td>2020-08-09</td>\n",
       "    </tr>\n",
       "    <tr>\n",
       "      <th>2</th>\n",
       "      <td>sjgbjdkhqx</td>\n",
       "      <td>GB</td>\n",
       "      <td>50xki2yg</td>\n",
       "      <td>GB</td>\n",
       "      <td>i9ynyxj5tdp8</td>\n",
       "      <td>Tops - Mens</td>\n",
       "      <td>NaN</td>\n",
       "      <td>GBP</td>\n",
       "      <td>6.37</td>\n",
       "      <td>2020-08-07</td>\n",
       "    </tr>\n",
       "    <tr>\n",
       "      <th>3</th>\n",
       "      <td>o79pns1qwo</td>\n",
       "      <td>GB</td>\n",
       "      <td>s0p322hh</td>\n",
       "      <td>GB</td>\n",
       "      <td>t50xe7moye8v</td>\n",
       "      <td>Tops - Mens</td>\n",
       "      <td>Berghaus</td>\n",
       "      <td>GBP</td>\n",
       "      <td>25.27</td>\n",
       "      <td>2020-08-09</td>\n",
       "    </tr>\n",
       "    <tr>\n",
       "      <th>4</th>\n",
       "      <td>o79pns1qwo</td>\n",
       "      <td>GB</td>\n",
       "      <td>dpkx192v</td>\n",
       "      <td>GB</td>\n",
       "      <td>hp4r9bjq68af</td>\n",
       "      <td>Bottoms - Womens</td>\n",
       "      <td>NaN</td>\n",
       "      <td>GBP</td>\n",
       "      <td>8.90</td>\n",
       "      <td>2020-08-09</td>\n",
       "    </tr>\n",
       "  </tbody>\n",
       "</table>\n",
       "</div>"
      ],
      "text/plain": [
       "     buyer_id buyer_country seller_id seller_country  product_code  \\\n",
       "0  qzpjsi9t0o            GB  6oufpaot             GB  ydecnydr6obf   \n",
       "1  o79pns1qwo            GB  50xki2yg             GB  38chj507o6h2   \n",
       "2  sjgbjdkhqx            GB  50xki2yg             GB  i9ynyxj5tdp8   \n",
       "3  o79pns1qwo            GB  s0p322hh             GB  t50xe7moye8v   \n",
       "4  o79pns1qwo            GB  dpkx192v             GB  hp4r9bjq68af   \n",
       "\n",
       "           category             brand currency  price        date  \n",
       "0           Dresses               NaN      GBP  19.11  2020-08-03  \n",
       "1         Outerwear  Adidas Originals      GBP  15.92  2020-08-09  \n",
       "2       Tops - Mens               NaN      GBP   6.37  2020-08-07  \n",
       "3       Tops - Mens          Berghaus      GBP  25.27  2020-08-09  \n",
       "4  Bottoms - Womens               NaN      GBP   8.90  2020-08-09  "
      ]
     },
     "execution_count": 133,
     "metadata": {},
     "output_type": "execute_result"
    }
   ],
   "source": [
    "sales.head()"
   ]
  },
  {
   "cell_type": "code",
   "execution_count": 134,
   "id": "657b2d44",
   "metadata": {},
   "outputs": [
    {
     "name": "stdout",
     "output_type": "stream",
     "text": [
      "<class 'pandas.core.frame.DataFrame'>\n",
      "RangeIndex: 220 entries, 0 to 219\n",
      "Data columns (total 3 columns):\n",
      " #   Column    Non-Null Count  Dtype  \n",
      "---  ------    --------------  -----  \n",
      " 0   currency  220 non-null    object \n",
      " 1   date      220 non-null    object \n",
      " 2   rate      220 non-null    float64\n",
      "dtypes: float64(1), object(2)\n",
      "memory usage: 5.3+ KB\n"
     ]
    }
   ],
   "source": [
    "cur_rates.info()"
   ]
  },
  {
   "cell_type": "code",
   "execution_count": 135,
   "id": "2b25aa4e",
   "metadata": {},
   "outputs": [
    {
     "data": {
      "text/html": [
       "<div>\n",
       "<style scoped>\n",
       "    .dataframe tbody tr th:only-of-type {\n",
       "        vertical-align: middle;\n",
       "    }\n",
       "\n",
       "    .dataframe tbody tr th {\n",
       "        vertical-align: top;\n",
       "    }\n",
       "\n",
       "    .dataframe thead th {\n",
       "        text-align: right;\n",
       "    }\n",
       "</style>\n",
       "<table border=\"1\" class=\"dataframe\">\n",
       "  <thead>\n",
       "    <tr style=\"text-align: right;\">\n",
       "      <th></th>\n",
       "      <th>currency</th>\n",
       "      <th>date</th>\n",
       "      <th>rate</th>\n",
       "    </tr>\n",
       "  </thead>\n",
       "  <tbody>\n",
       "    <tr>\n",
       "      <th>0</th>\n",
       "      <td>EUR</td>\n",
       "      <td>8/1/2020</td>\n",
       "      <td>1.0</td>\n",
       "    </tr>\n",
       "    <tr>\n",
       "      <th>1</th>\n",
       "      <td>EUR</td>\n",
       "      <td>8/2/2020</td>\n",
       "      <td>1.0</td>\n",
       "    </tr>\n",
       "    <tr>\n",
       "      <th>2</th>\n",
       "      <td>EUR</td>\n",
       "      <td>8/3/2020</td>\n",
       "      <td>1.0</td>\n",
       "    </tr>\n",
       "    <tr>\n",
       "      <th>3</th>\n",
       "      <td>EUR</td>\n",
       "      <td>8/4/2020</td>\n",
       "      <td>1.0</td>\n",
       "    </tr>\n",
       "    <tr>\n",
       "      <th>4</th>\n",
       "      <td>EUR</td>\n",
       "      <td>8/5/2020</td>\n",
       "      <td>1.0</td>\n",
       "    </tr>\n",
       "  </tbody>\n",
       "</table>\n",
       "</div>"
      ],
      "text/plain": [
       "  currency      date  rate\n",
       "0      EUR  8/1/2020   1.0\n",
       "1      EUR  8/2/2020   1.0\n",
       "2      EUR  8/3/2020   1.0\n",
       "3      EUR  8/4/2020   1.0\n",
       "4      EUR  8/5/2020   1.0"
      ]
     },
     "execution_count": 135,
     "metadata": {},
     "output_type": "execute_result"
    }
   ],
   "source": [
    "cur_rates.head()"
   ]
  },
  {
   "cell_type": "markdown",
   "id": "3893638f",
   "metadata": {},
   "source": [
    "**1. How many rows in the sales dataset?(Just write the numbers in the format of 000.000)**"
   ]
  },
  {
   "cell_type": "code",
   "execution_count": 11,
   "id": "2daa1f2a",
   "metadata": {},
   "outputs": [
    {
     "data": {
      "text/plain": [
       "237671"
      ]
     },
     "execution_count": 11,
     "metadata": {},
     "output_type": "execute_result"
    }
   ],
   "source": [
    "sales.shape[0]"
   ]
  },
  {
   "cell_type": "markdown",
   "id": "43918417",
   "metadata": {},
   "source": [
    "**2. How many columns in the sales dataset?(Just write the numbers)**\n"
   ]
  },
  {
   "cell_type": "code",
   "execution_count": 13,
   "id": "44b74239",
   "metadata": {},
   "outputs": [
    {
     "data": {
      "text/plain": [
       "10"
      ]
     },
     "execution_count": 13,
     "metadata": {},
     "output_type": "execute_result"
    }
   ],
   "source": [
    "len(sales.columns)"
   ]
  },
  {
   "cell_type": "markdown",
   "id": "e4ec92ac",
   "metadata": {},
   "source": [
    "**3. What is the total number of sellers?(Just write the numbers in the format of 000.000)**"
   ]
  },
  {
   "cell_type": "code",
   "execution_count": 20,
   "id": "333ed1d2",
   "metadata": {},
   "outputs": [
    {
     "data": {
      "text/plain": [
       "114227"
      ]
     },
     "execution_count": 20,
     "metadata": {},
     "output_type": "execute_result"
    }
   ],
   "source": [
    "sales[\"seller_id\"].nunique()"
   ]
  },
  {
   "cell_type": "code",
   "execution_count": 24,
   "id": "e20560d5",
   "metadata": {},
   "outputs": [
    {
     "data": {
      "text/plain": [
       "pzsiehl0    703\n",
       "wd3rgi3q    525\n",
       "j21w87xy    500\n",
       "dbm0o9qu    436\n",
       "hbtm3tdy    316\n",
       "           ... \n",
       "b79drc4f      1\n",
       "ivtfeqcd      1\n",
       "uvfzdgb4      1\n",
       "pbrox97s      1\n",
       "0au7baxi      1\n",
       "Name: seller_id, Length: 114227, dtype: int64"
      ]
     },
     "execution_count": 24,
     "metadata": {},
     "output_type": "execute_result"
    }
   ],
   "source": [
    "sales[\"seller_id\"].value_counts()"
   ]
  },
  {
   "cell_type": "markdown",
   "id": "abc79cac",
   "metadata": {},
   "source": [
    "**4. What is the total value of sales in EUR?(Just write the numbers in the format of 0.000.000 )**"
   ]
  },
  {
   "cell_type": "code",
   "execution_count": 137,
   "id": "a7cb8b15",
   "metadata": {},
   "outputs": [
    {
     "data": {
      "text/plain": [
       "0    8/1/2020\n",
       "1    8/2/2020\n",
       "2    8/3/2020\n",
       "3    8/4/2020\n",
       "4    8/5/2020\n",
       "Name: date, dtype: object"
      ]
     },
     "execution_count": 137,
     "metadata": {},
     "output_type": "execute_result"
    }
   ],
   "source": [
    "cur_rates.date.head()"
   ]
  },
  {
   "cell_type": "code",
   "execution_count": 140,
   "id": "8ac48590",
   "metadata": {},
   "outputs": [],
   "source": [
    "sales.date = pd.to_datetime(sales.date)"
   ]
  },
  {
   "cell_type": "code",
   "execution_count": 142,
   "id": "8ea5aa63",
   "metadata": {},
   "outputs": [
    {
     "data": {
      "text/plain": [
       "0   2020-08-03\n",
       "1   2020-08-09\n",
       "2   2020-08-07\n",
       "3   2020-08-09\n",
       "4   2020-08-09\n",
       "Name: date, dtype: datetime64[ns]"
      ]
     },
     "execution_count": 142,
     "metadata": {},
     "output_type": "execute_result"
    }
   ],
   "source": [
    "sales.date.head()"
   ]
  },
  {
   "cell_type": "code",
   "execution_count": 143,
   "id": "3831d1c3",
   "metadata": {},
   "outputs": [
    {
     "data": {
      "text/plain": [
       "0   2020-08-01\n",
       "1   2020-08-02\n",
       "2   2020-08-03\n",
       "3   2020-08-04\n",
       "4   2020-08-05\n",
       "Name: date, dtype: datetime64[ns]"
      ]
     },
     "execution_count": 143,
     "metadata": {},
     "output_type": "execute_result"
    }
   ],
   "source": [
    "cur_rates.date = pd.to_datetime(cur_rates.date)\n",
    "cur_rates.date.head()"
   ]
  },
  {
   "cell_type": "code",
   "execution_count": 145,
   "id": "0781e79d",
   "metadata": {},
   "outputs": [
    {
     "data": {
      "text/html": [
       "<div>\n",
       "<style scoped>\n",
       "    .dataframe tbody tr th:only-of-type {\n",
       "        vertical-align: middle;\n",
       "    }\n",
       "\n",
       "    .dataframe tbody tr th {\n",
       "        vertical-align: top;\n",
       "    }\n",
       "\n",
       "    .dataframe thead th {\n",
       "        text-align: right;\n",
       "    }\n",
       "</style>\n",
       "<table border=\"1\" class=\"dataframe\">\n",
       "  <thead>\n",
       "    <tr style=\"text-align: right;\">\n",
       "      <th></th>\n",
       "      <th>buyer_id</th>\n",
       "      <th>buyer_country</th>\n",
       "      <th>seller_id</th>\n",
       "      <th>seller_country</th>\n",
       "      <th>product_code</th>\n",
       "      <th>category</th>\n",
       "      <th>brand</th>\n",
       "      <th>currency</th>\n",
       "      <th>price</th>\n",
       "      <th>date</th>\n",
       "      <th>rate</th>\n",
       "    </tr>\n",
       "  </thead>\n",
       "  <tbody>\n",
       "    <tr>\n",
       "      <th>0</th>\n",
       "      <td>qzpjsi9t0o</td>\n",
       "      <td>GB</td>\n",
       "      <td>6oufpaot</td>\n",
       "      <td>GB</td>\n",
       "      <td>ydecnydr6obf</td>\n",
       "      <td>Dresses</td>\n",
       "      <td>NaN</td>\n",
       "      <td>GBP</td>\n",
       "      <td>19.11</td>\n",
       "      <td>2020-08-03</td>\n",
       "      <td>0.89935</td>\n",
       "    </tr>\n",
       "    <tr>\n",
       "      <th>1</th>\n",
       "      <td>rd209r8c7c</td>\n",
       "      <td>GB</td>\n",
       "      <td>9p2ansc9</td>\n",
       "      <td>GB</td>\n",
       "      <td>wpxxf59cq7pc</td>\n",
       "      <td>Outerwear - Mens</td>\n",
       "      <td>Adidas Originals</td>\n",
       "      <td>GBP</td>\n",
       "      <td>24.91</td>\n",
       "      <td>2020-08-03</td>\n",
       "      <td>0.89935</td>\n",
       "    </tr>\n",
       "    <tr>\n",
       "      <th>2</th>\n",
       "      <td>pqbcrl8azx</td>\n",
       "      <td>GB</td>\n",
       "      <td>r9zmzem8</td>\n",
       "      <td>GB</td>\n",
       "      <td>ua9mmn86wsqy</td>\n",
       "      <td>Tops - Womens</td>\n",
       "      <td>NaN</td>\n",
       "      <td>GBP</td>\n",
       "      <td>19.31</td>\n",
       "      <td>2020-08-03</td>\n",
       "      <td>0.89935</td>\n",
       "    </tr>\n",
       "    <tr>\n",
       "      <th>3</th>\n",
       "      <td>j5en1rwmxp</td>\n",
       "      <td>GB</td>\n",
       "      <td>3o2nz88r</td>\n",
       "      <td>GB</td>\n",
       "      <td>tduo2uy8iszl</td>\n",
       "      <td>Bottoms - Womens</td>\n",
       "      <td>Urban Outfitters</td>\n",
       "      <td>GBP</td>\n",
       "      <td>16.98</td>\n",
       "      <td>2020-08-03</td>\n",
       "      <td>0.89935</td>\n",
       "    </tr>\n",
       "    <tr>\n",
       "      <th>4</th>\n",
       "      <td>kjdezxeh1l</td>\n",
       "      <td>GB</td>\n",
       "      <td>7g56ublf</td>\n",
       "      <td>GB</td>\n",
       "      <td>39o00tcu89zq</td>\n",
       "      <td>Other</td>\n",
       "      <td>NaN</td>\n",
       "      <td>GBP</td>\n",
       "      <td>2.85</td>\n",
       "      <td>2020-08-03</td>\n",
       "      <td>0.89935</td>\n",
       "    </tr>\n",
       "    <tr>\n",
       "      <th>...</th>\n",
       "      <td>...</td>\n",
       "      <td>...</td>\n",
       "      <td>...</td>\n",
       "      <td>...</td>\n",
       "      <td>...</td>\n",
       "      <td>...</td>\n",
       "      <td>...</td>\n",
       "      <td>...</td>\n",
       "      <td>...</td>\n",
       "      <td>...</td>\n",
       "      <td>...</td>\n",
       "    </tr>\n",
       "    <tr>\n",
       "      <th>237666</th>\n",
       "      <td>d7dx6f3qv7</td>\n",
       "      <td>RoW</td>\n",
       "      <td>e2p108mu</td>\n",
       "      <td>RoW</td>\n",
       "      <td>nan9a4p10ayk</td>\n",
       "      <td>Tops - Mens</td>\n",
       "      <td>NaN</td>\n",
       "      <td>PLN</td>\n",
       "      <td>4.24</td>\n",
       "      <td>2020-08-04</td>\n",
       "      <td>4.39693</td>\n",
       "    </tr>\n",
       "    <tr>\n",
       "      <th>237667</th>\n",
       "      <td>iaf2ck3rj6</td>\n",
       "      <td>IT</td>\n",
       "      <td>gjb1qntq</td>\n",
       "      <td>RoW</td>\n",
       "      <td>lxj477q1hab2</td>\n",
       "      <td>Accessories</td>\n",
       "      <td>NaN</td>\n",
       "      <td>CZK</td>\n",
       "      <td>3923.18</td>\n",
       "      <td>2020-08-04</td>\n",
       "      <td>26.12360</td>\n",
       "    </tr>\n",
       "    <tr>\n",
       "      <th>237668</th>\n",
       "      <td>tucgt70cwc</td>\n",
       "      <td>AU</td>\n",
       "      <td>9adnlxvr</td>\n",
       "      <td>RoW</td>\n",
       "      <td>2g0g0obhwjuc</td>\n",
       "      <td>Jewellery</td>\n",
       "      <td>NaN</td>\n",
       "      <td>PLN</td>\n",
       "      <td>525.82</td>\n",
       "      <td>2020-08-09</td>\n",
       "      <td>4.41427</td>\n",
       "    </tr>\n",
       "    <tr>\n",
       "      <th>237669</th>\n",
       "      <td>rrfjxzbdxu</td>\n",
       "      <td>US</td>\n",
       "      <td>w2pozh7u</td>\n",
       "      <td>US</td>\n",
       "      <td>5mm5eg99xbu2</td>\n",
       "      <td>Bottoms - Womens</td>\n",
       "      <td>Brandy Melville</td>\n",
       "      <td>BRL</td>\n",
       "      <td>34.92</td>\n",
       "      <td>2020-08-06</td>\n",
       "      <td>6.33240</td>\n",
       "    </tr>\n",
       "    <tr>\n",
       "      <th>237670</th>\n",
       "      <td>wnmihth4io</td>\n",
       "      <td>GB</td>\n",
       "      <td>5yogzc17</td>\n",
       "      <td>RoW</td>\n",
       "      <td>wrgq88ujwh5d</td>\n",
       "      <td>Bottoms - Womens</td>\n",
       "      <td>NaN</td>\n",
       "      <td>NOK</td>\n",
       "      <td>533.06</td>\n",
       "      <td>2020-08-08</td>\n",
       "      <td>10.64540</td>\n",
       "    </tr>\n",
       "  </tbody>\n",
       "</table>\n",
       "<p>237671 rows × 11 columns</p>\n",
       "</div>"
      ],
      "text/plain": [
       "          buyer_id buyer_country seller_id seller_country  product_code  \\\n",
       "0       qzpjsi9t0o            GB  6oufpaot             GB  ydecnydr6obf   \n",
       "1       rd209r8c7c            GB  9p2ansc9             GB  wpxxf59cq7pc   \n",
       "2       pqbcrl8azx            GB  r9zmzem8             GB  ua9mmn86wsqy   \n",
       "3       j5en1rwmxp            GB  3o2nz88r             GB  tduo2uy8iszl   \n",
       "4       kjdezxeh1l            GB  7g56ublf             GB  39o00tcu89zq   \n",
       "...            ...           ...       ...            ...           ...   \n",
       "237666  d7dx6f3qv7           RoW  e2p108mu            RoW  nan9a4p10ayk   \n",
       "237667  iaf2ck3rj6            IT  gjb1qntq            RoW  lxj477q1hab2   \n",
       "237668  tucgt70cwc            AU  9adnlxvr            RoW  2g0g0obhwjuc   \n",
       "237669  rrfjxzbdxu            US  w2pozh7u             US  5mm5eg99xbu2   \n",
       "237670  wnmihth4io            GB  5yogzc17            RoW  wrgq88ujwh5d   \n",
       "\n",
       "                category             brand currency    price       date  \\\n",
       "0                Dresses               NaN      GBP    19.11 2020-08-03   \n",
       "1       Outerwear - Mens  Adidas Originals      GBP    24.91 2020-08-03   \n",
       "2          Tops - Womens               NaN      GBP    19.31 2020-08-03   \n",
       "3       Bottoms - Womens  Urban Outfitters      GBP    16.98 2020-08-03   \n",
       "4                  Other               NaN      GBP     2.85 2020-08-03   \n",
       "...                  ...               ...      ...      ...        ...   \n",
       "237666       Tops - Mens               NaN      PLN     4.24 2020-08-04   \n",
       "237667       Accessories               NaN      CZK  3923.18 2020-08-04   \n",
       "237668         Jewellery               NaN      PLN   525.82 2020-08-09   \n",
       "237669  Bottoms - Womens   Brandy Melville      BRL    34.92 2020-08-06   \n",
       "237670  Bottoms - Womens               NaN      NOK   533.06 2020-08-08   \n",
       "\n",
       "            rate  \n",
       "0        0.89935  \n",
       "1        0.89935  \n",
       "2        0.89935  \n",
       "3        0.89935  \n",
       "4        0.89935  \n",
       "...          ...  \n",
       "237666   4.39693  \n",
       "237667  26.12360  \n",
       "237668   4.41427  \n",
       "237669   6.33240  \n",
       "237670  10.64540  \n",
       "\n",
       "[237671 rows x 11 columns]"
      ]
     },
     "execution_count": 145,
     "metadata": {},
     "output_type": "execute_result"
    }
   ],
   "source": [
    "df_new = pd.merge(sales, cur_rates, on=[\"date\", \"currency\"])\n",
    "df_new"
   ]
  },
  {
   "cell_type": "code",
   "execution_count": 146,
   "id": "62602e16",
   "metadata": {},
   "outputs": [
    {
     "data": {
      "text/html": [
       "<div>\n",
       "<style scoped>\n",
       "    .dataframe tbody tr th:only-of-type {\n",
       "        vertical-align: middle;\n",
       "    }\n",
       "\n",
       "    .dataframe tbody tr th {\n",
       "        vertical-align: top;\n",
       "    }\n",
       "\n",
       "    .dataframe thead th {\n",
       "        text-align: right;\n",
       "    }\n",
       "</style>\n",
       "<table border=\"1\" class=\"dataframe\">\n",
       "  <thead>\n",
       "    <tr style=\"text-align: right;\">\n",
       "      <th></th>\n",
       "      <th>buyer_id</th>\n",
       "      <th>buyer_country</th>\n",
       "      <th>seller_id</th>\n",
       "      <th>seller_country</th>\n",
       "      <th>product_code</th>\n",
       "      <th>category</th>\n",
       "      <th>brand</th>\n",
       "      <th>currency</th>\n",
       "      <th>price</th>\n",
       "      <th>date</th>\n",
       "      <th>rate</th>\n",
       "      <th>Total</th>\n",
       "    </tr>\n",
       "  </thead>\n",
       "  <tbody>\n",
       "    <tr>\n",
       "      <th>0</th>\n",
       "      <td>qzpjsi9t0o</td>\n",
       "      <td>GB</td>\n",
       "      <td>6oufpaot</td>\n",
       "      <td>GB</td>\n",
       "      <td>ydecnydr6obf</td>\n",
       "      <td>Dresses</td>\n",
       "      <td>NaN</td>\n",
       "      <td>GBP</td>\n",
       "      <td>19.11</td>\n",
       "      <td>2020-08-03</td>\n",
       "      <td>0.89935</td>\n",
       "      <td>21.248680</td>\n",
       "    </tr>\n",
       "    <tr>\n",
       "      <th>1</th>\n",
       "      <td>rd209r8c7c</td>\n",
       "      <td>GB</td>\n",
       "      <td>9p2ansc9</td>\n",
       "      <td>GB</td>\n",
       "      <td>wpxxf59cq7pc</td>\n",
       "      <td>Outerwear - Mens</td>\n",
       "      <td>Adidas Originals</td>\n",
       "      <td>GBP</td>\n",
       "      <td>24.91</td>\n",
       "      <td>2020-08-03</td>\n",
       "      <td>0.89935</td>\n",
       "      <td>27.697782</td>\n",
       "    </tr>\n",
       "    <tr>\n",
       "      <th>2</th>\n",
       "      <td>pqbcrl8azx</td>\n",
       "      <td>GB</td>\n",
       "      <td>r9zmzem8</td>\n",
       "      <td>GB</td>\n",
       "      <td>ua9mmn86wsqy</td>\n",
       "      <td>Tops - Womens</td>\n",
       "      <td>NaN</td>\n",
       "      <td>GBP</td>\n",
       "      <td>19.31</td>\n",
       "      <td>2020-08-03</td>\n",
       "      <td>0.89935</td>\n",
       "      <td>21.471062</td>\n",
       "    </tr>\n",
       "    <tr>\n",
       "      <th>3</th>\n",
       "      <td>j5en1rwmxp</td>\n",
       "      <td>GB</td>\n",
       "      <td>3o2nz88r</td>\n",
       "      <td>GB</td>\n",
       "      <td>tduo2uy8iszl</td>\n",
       "      <td>Bottoms - Womens</td>\n",
       "      <td>Urban Outfitters</td>\n",
       "      <td>GBP</td>\n",
       "      <td>16.98</td>\n",
       "      <td>2020-08-03</td>\n",
       "      <td>0.89935</td>\n",
       "      <td>18.880302</td>\n",
       "    </tr>\n",
       "    <tr>\n",
       "      <th>4</th>\n",
       "      <td>kjdezxeh1l</td>\n",
       "      <td>GB</td>\n",
       "      <td>7g56ublf</td>\n",
       "      <td>GB</td>\n",
       "      <td>39o00tcu89zq</td>\n",
       "      <td>Other</td>\n",
       "      <td>NaN</td>\n",
       "      <td>GBP</td>\n",
       "      <td>2.85</td>\n",
       "      <td>2020-08-03</td>\n",
       "      <td>0.89935</td>\n",
       "      <td>3.168955</td>\n",
       "    </tr>\n",
       "    <tr>\n",
       "      <th>...</th>\n",
       "      <td>...</td>\n",
       "      <td>...</td>\n",
       "      <td>...</td>\n",
       "      <td>...</td>\n",
       "      <td>...</td>\n",
       "      <td>...</td>\n",
       "      <td>...</td>\n",
       "      <td>...</td>\n",
       "      <td>...</td>\n",
       "      <td>...</td>\n",
       "      <td>...</td>\n",
       "      <td>...</td>\n",
       "    </tr>\n",
       "    <tr>\n",
       "      <th>237666</th>\n",
       "      <td>d7dx6f3qv7</td>\n",
       "      <td>RoW</td>\n",
       "      <td>e2p108mu</td>\n",
       "      <td>RoW</td>\n",
       "      <td>nan9a4p10ayk</td>\n",
       "      <td>Tops - Mens</td>\n",
       "      <td>NaN</td>\n",
       "      <td>PLN</td>\n",
       "      <td>4.24</td>\n",
       "      <td>2020-08-04</td>\n",
       "      <td>4.39693</td>\n",
       "      <td>0.964309</td>\n",
       "    </tr>\n",
       "    <tr>\n",
       "      <th>237667</th>\n",
       "      <td>iaf2ck3rj6</td>\n",
       "      <td>IT</td>\n",
       "      <td>gjb1qntq</td>\n",
       "      <td>RoW</td>\n",
       "      <td>lxj477q1hab2</td>\n",
       "      <td>Accessories</td>\n",
       "      <td>NaN</td>\n",
       "      <td>CZK</td>\n",
       "      <td>3923.18</td>\n",
       "      <td>2020-08-04</td>\n",
       "      <td>26.12360</td>\n",
       "      <td>150.177617</td>\n",
       "    </tr>\n",
       "    <tr>\n",
       "      <th>237668</th>\n",
       "      <td>tucgt70cwc</td>\n",
       "      <td>AU</td>\n",
       "      <td>9adnlxvr</td>\n",
       "      <td>RoW</td>\n",
       "      <td>2g0g0obhwjuc</td>\n",
       "      <td>Jewellery</td>\n",
       "      <td>NaN</td>\n",
       "      <td>PLN</td>\n",
       "      <td>525.82</td>\n",
       "      <td>2020-08-09</td>\n",
       "      <td>4.41427</td>\n",
       "      <td>119.118223</td>\n",
       "    </tr>\n",
       "    <tr>\n",
       "      <th>237669</th>\n",
       "      <td>rrfjxzbdxu</td>\n",
       "      <td>US</td>\n",
       "      <td>w2pozh7u</td>\n",
       "      <td>US</td>\n",
       "      <td>5mm5eg99xbu2</td>\n",
       "      <td>Bottoms - Womens</td>\n",
       "      <td>Brandy Melville</td>\n",
       "      <td>BRL</td>\n",
       "      <td>34.92</td>\n",
       "      <td>2020-08-06</td>\n",
       "      <td>6.33240</td>\n",
       "      <td>5.514497</td>\n",
       "    </tr>\n",
       "    <tr>\n",
       "      <th>237670</th>\n",
       "      <td>wnmihth4io</td>\n",
       "      <td>GB</td>\n",
       "      <td>5yogzc17</td>\n",
       "      <td>RoW</td>\n",
       "      <td>wrgq88ujwh5d</td>\n",
       "      <td>Bottoms - Womens</td>\n",
       "      <td>NaN</td>\n",
       "      <td>NOK</td>\n",
       "      <td>533.06</td>\n",
       "      <td>2020-08-08</td>\n",
       "      <td>10.64540</td>\n",
       "      <td>50.074210</td>\n",
       "    </tr>\n",
       "  </tbody>\n",
       "</table>\n",
       "<p>237671 rows × 12 columns</p>\n",
       "</div>"
      ],
      "text/plain": [
       "          buyer_id buyer_country seller_id seller_country  product_code  \\\n",
       "0       qzpjsi9t0o            GB  6oufpaot             GB  ydecnydr6obf   \n",
       "1       rd209r8c7c            GB  9p2ansc9             GB  wpxxf59cq7pc   \n",
       "2       pqbcrl8azx            GB  r9zmzem8             GB  ua9mmn86wsqy   \n",
       "3       j5en1rwmxp            GB  3o2nz88r             GB  tduo2uy8iszl   \n",
       "4       kjdezxeh1l            GB  7g56ublf             GB  39o00tcu89zq   \n",
       "...            ...           ...       ...            ...           ...   \n",
       "237666  d7dx6f3qv7           RoW  e2p108mu            RoW  nan9a4p10ayk   \n",
       "237667  iaf2ck3rj6            IT  gjb1qntq            RoW  lxj477q1hab2   \n",
       "237668  tucgt70cwc            AU  9adnlxvr            RoW  2g0g0obhwjuc   \n",
       "237669  rrfjxzbdxu            US  w2pozh7u             US  5mm5eg99xbu2   \n",
       "237670  wnmihth4io            GB  5yogzc17            RoW  wrgq88ujwh5d   \n",
       "\n",
       "                category             brand currency    price       date  \\\n",
       "0                Dresses               NaN      GBP    19.11 2020-08-03   \n",
       "1       Outerwear - Mens  Adidas Originals      GBP    24.91 2020-08-03   \n",
       "2          Tops - Womens               NaN      GBP    19.31 2020-08-03   \n",
       "3       Bottoms - Womens  Urban Outfitters      GBP    16.98 2020-08-03   \n",
       "4                  Other               NaN      GBP     2.85 2020-08-03   \n",
       "...                  ...               ...      ...      ...        ...   \n",
       "237666       Tops - Mens               NaN      PLN     4.24 2020-08-04   \n",
       "237667       Accessories               NaN      CZK  3923.18 2020-08-04   \n",
       "237668         Jewellery               NaN      PLN   525.82 2020-08-09   \n",
       "237669  Bottoms - Womens   Brandy Melville      BRL    34.92 2020-08-06   \n",
       "237670  Bottoms - Womens               NaN      NOK   533.06 2020-08-08   \n",
       "\n",
       "            rate       Total  \n",
       "0        0.89935   21.248680  \n",
       "1        0.89935   27.697782  \n",
       "2        0.89935   21.471062  \n",
       "3        0.89935   18.880302  \n",
       "4        0.89935    3.168955  \n",
       "...          ...         ...  \n",
       "237666   4.39693    0.964309  \n",
       "237667  26.12360  150.177617  \n",
       "237668   4.41427  119.118223  \n",
       "237669   6.33240    5.514497  \n",
       "237670  10.64540   50.074210  \n",
       "\n",
       "[237671 rows x 12 columns]"
      ]
     },
     "execution_count": 146,
     "metadata": {},
     "output_type": "execute_result"
    }
   ],
   "source": [
    "df_new[\"Total\"] = df_new.price / df_new.rate\n",
    "df_new"
   ]
  },
  {
   "cell_type": "code",
   "execution_count": 147,
   "id": "51d9385e",
   "metadata": {},
   "outputs": [
    {
     "data": {
      "text/plain": [
       "6471510.822498876"
      ]
     },
     "execution_count": 147,
     "metadata": {},
     "output_type": "execute_result"
    }
   ],
   "source": [
    "df_new[\"Total\"].sum()"
   ]
  },
  {
   "cell_type": "markdown",
   "id": "f6a3a439",
   "metadata": {},
   "source": [
    "**5. Which brand has the highest number of purchases during the period?(Just write down the brand as in the dataset, your answer is supposed to be case sensitive)**"
   ]
  },
  {
   "cell_type": "code",
   "execution_count": 27,
   "id": "2a6c1f9f",
   "metadata": {
    "scrolled": true
   },
   "outputs": [
    {
     "data": {
      "text/plain": [
       "Nike                  9575\n",
       "Brandy Melville       5065\n",
       "Topshop               4561\n",
       "PrettyLittle Thing    4136\n",
       "Adidas                3905\n",
       "                      ... \n",
       "Preen                    1\n",
       "Wacoal                   1\n",
       "Shu Uemura               1\n",
       "Parker                   1\n",
       "Vita Fede                1\n",
       "Name: brand, Length: 1134, dtype: int64"
      ]
     },
     "execution_count": 27,
     "metadata": {},
     "output_type": "execute_result"
    }
   ],
   "source": [
    "sales[\"brand\"].value_counts()"
   ]
  },
  {
   "cell_type": "code",
   "execution_count": 28,
   "id": "838a87f9",
   "metadata": {},
   "outputs": [
    {
     "data": {
      "text/plain": [
       "NaN                   118341\n",
       "Nike                    9575\n",
       "Brandy Melville         5065\n",
       "Topshop                 4561\n",
       "PrettyLittle Thing      4136\n",
       "                       ...  \n",
       "kensie                     1\n",
       "Rachel Comey               1\n",
       "C/meo Collective           1\n",
       "Preen                      1\n",
       "Vita Fede                  1\n",
       "Name: brand, Length: 1135, dtype: int64"
      ]
     },
     "execution_count": 28,
     "metadata": {},
     "output_type": "execute_result"
    }
   ],
   "source": [
    "sales[\"brand\"].value_counts(dropna=False)"
   ]
  },
  {
   "cell_type": "markdown",
   "id": "a9e399cd",
   "metadata": {},
   "source": [
    "**6. How many items in the “Jewelry” category have no brand associated with them?(Just write the numbers in the format of 00.000)**"
   ]
  },
  {
   "cell_type": "code",
   "execution_count": 151,
   "id": "c59748fa",
   "metadata": {},
   "outputs": [
    {
     "data": {
      "text/html": [
       "<div>\n",
       "<style scoped>\n",
       "    .dataframe tbody tr th:only-of-type {\n",
       "        vertical-align: middle;\n",
       "    }\n",
       "\n",
       "    .dataframe tbody tr th {\n",
       "        vertical-align: top;\n",
       "    }\n",
       "\n",
       "    .dataframe thead th {\n",
       "        text-align: right;\n",
       "    }\n",
       "</style>\n",
       "<table border=\"1\" class=\"dataframe\">\n",
       "  <thead>\n",
       "    <tr style=\"text-align: right;\">\n",
       "      <th></th>\n",
       "      <th>buyer_id</th>\n",
       "      <th>buyer_country</th>\n",
       "      <th>seller_id</th>\n",
       "      <th>seller_country</th>\n",
       "      <th>product_code</th>\n",
       "      <th>category</th>\n",
       "      <th>brand</th>\n",
       "      <th>currency</th>\n",
       "      <th>price</th>\n",
       "      <th>date</th>\n",
       "    </tr>\n",
       "  </thead>\n",
       "  <tbody>\n",
       "    <tr>\n",
       "      <th>23</th>\n",
       "      <td>94lh9gu3bu</td>\n",
       "      <td>US</td>\n",
       "      <td>dhsa2q6o</td>\n",
       "      <td>US</td>\n",
       "      <td>1m846u2l2dyl</td>\n",
       "      <td>Jewellery</td>\n",
       "      <td>NaN</td>\n",
       "      <td>USD</td>\n",
       "      <td>16.29</td>\n",
       "      <td>2020-08-03</td>\n",
       "    </tr>\n",
       "    <tr>\n",
       "      <th>48</th>\n",
       "      <td>u8da411658</td>\n",
       "      <td>AU</td>\n",
       "      <td>qn7p4cv2</td>\n",
       "      <td>AU</td>\n",
       "      <td>dd4d4p2h4us2</td>\n",
       "      <td>Jewellery</td>\n",
       "      <td>NaN</td>\n",
       "      <td>AUD</td>\n",
       "      <td>12.52</td>\n",
       "      <td>2020-08-07</td>\n",
       "    </tr>\n",
       "    <tr>\n",
       "      <th>49</th>\n",
       "      <td>9exo58j839</td>\n",
       "      <td>AU</td>\n",
       "      <td>qn7p4cv2</td>\n",
       "      <td>AU</td>\n",
       "      <td>6nogqtmgfjsn</td>\n",
       "      <td>Jewellery</td>\n",
       "      <td>NaN</td>\n",
       "      <td>AUD</td>\n",
       "      <td>8.48</td>\n",
       "      <td>2020-08-09</td>\n",
       "    </tr>\n",
       "    <tr>\n",
       "      <th>50</th>\n",
       "      <td>9exo58j839</td>\n",
       "      <td>AU</td>\n",
       "      <td>qn7p4cv2</td>\n",
       "      <td>AU</td>\n",
       "      <td>w5ixs8y20z3n</td>\n",
       "      <td>Jewellery</td>\n",
       "      <td>NaN</td>\n",
       "      <td>AUD</td>\n",
       "      <td>5.58</td>\n",
       "      <td>2020-08-09</td>\n",
       "    </tr>\n",
       "    <tr>\n",
       "      <th>51</th>\n",
       "      <td>9exo58j839</td>\n",
       "      <td>AU</td>\n",
       "      <td>qn7p4cv2</td>\n",
       "      <td>AU</td>\n",
       "      <td>g5usn39z8b7u</td>\n",
       "      <td>Jewellery</td>\n",
       "      <td>NaN</td>\n",
       "      <td>AUD</td>\n",
       "      <td>5.37</td>\n",
       "      <td>2020-08-09</td>\n",
       "    </tr>\n",
       "    <tr>\n",
       "      <th>...</th>\n",
       "      <td>...</td>\n",
       "      <td>...</td>\n",
       "      <td>...</td>\n",
       "      <td>...</td>\n",
       "      <td>...</td>\n",
       "      <td>...</td>\n",
       "      <td>...</td>\n",
       "      <td>...</td>\n",
       "      <td>...</td>\n",
       "      <td>...</td>\n",
       "    </tr>\n",
       "    <tr>\n",
       "      <th>237545</th>\n",
       "      <td>rabu7nz8gn</td>\n",
       "      <td>US</td>\n",
       "      <td>rv5nmiwq</td>\n",
       "      <td>US</td>\n",
       "      <td>ikfosml5pjas</td>\n",
       "      <td>Jewellery</td>\n",
       "      <td>NaN</td>\n",
       "      <td>USD</td>\n",
       "      <td>21.19</td>\n",
       "      <td>2020-08-05</td>\n",
       "    </tr>\n",
       "    <tr>\n",
       "      <th>237568</th>\n",
       "      <td>ytjobx2wzg</td>\n",
       "      <td>GB</td>\n",
       "      <td>qib5sh0l</td>\n",
       "      <td>GB</td>\n",
       "      <td>tn00dvezdp43</td>\n",
       "      <td>Jewellery</td>\n",
       "      <td>NaN</td>\n",
       "      <td>GBP</td>\n",
       "      <td>1.15</td>\n",
       "      <td>2020-08-05</td>\n",
       "    </tr>\n",
       "    <tr>\n",
       "      <th>237569</th>\n",
       "      <td>ytjobx2wzg</td>\n",
       "      <td>GB</td>\n",
       "      <td>qib5sh0l</td>\n",
       "      <td>GB</td>\n",
       "      <td>eykndnmcb4g6</td>\n",
       "      <td>Jewellery</td>\n",
       "      <td>NaN</td>\n",
       "      <td>GBP</td>\n",
       "      <td>1.15</td>\n",
       "      <td>2020-08-05</td>\n",
       "    </tr>\n",
       "    <tr>\n",
       "      <th>237616</th>\n",
       "      <td>p0jol2ieus</td>\n",
       "      <td>US</td>\n",
       "      <td>4pi8qok2</td>\n",
       "      <td>US</td>\n",
       "      <td>0ipj5zmes1cu</td>\n",
       "      <td>Jewellery</td>\n",
       "      <td>NaN</td>\n",
       "      <td>USD</td>\n",
       "      <td>18.67</td>\n",
       "      <td>2020-08-08</td>\n",
       "    </tr>\n",
       "    <tr>\n",
       "      <th>237643</th>\n",
       "      <td>q86525x69t</td>\n",
       "      <td>GB</td>\n",
       "      <td>33hffrhq</td>\n",
       "      <td>GB</td>\n",
       "      <td>426jwzj6b2uz</td>\n",
       "      <td>Jewellery</td>\n",
       "      <td>NaN</td>\n",
       "      <td>GBP</td>\n",
       "      <td>5.30</td>\n",
       "      <td>2020-08-05</td>\n",
       "    </tr>\n",
       "  </tbody>\n",
       "</table>\n",
       "<p>13525 rows × 10 columns</p>\n",
       "</div>"
      ],
      "text/plain": [
       "          buyer_id buyer_country seller_id seller_country  product_code  \\\n",
       "23      94lh9gu3bu            US  dhsa2q6o             US  1m846u2l2dyl   \n",
       "48      u8da411658            AU  qn7p4cv2             AU  dd4d4p2h4us2   \n",
       "49      9exo58j839            AU  qn7p4cv2             AU  6nogqtmgfjsn   \n",
       "50      9exo58j839            AU  qn7p4cv2             AU  w5ixs8y20z3n   \n",
       "51      9exo58j839            AU  qn7p4cv2             AU  g5usn39z8b7u   \n",
       "...            ...           ...       ...            ...           ...   \n",
       "237545  rabu7nz8gn            US  rv5nmiwq             US  ikfosml5pjas   \n",
       "237568  ytjobx2wzg            GB  qib5sh0l             GB  tn00dvezdp43   \n",
       "237569  ytjobx2wzg            GB  qib5sh0l             GB  eykndnmcb4g6   \n",
       "237616  p0jol2ieus            US  4pi8qok2             US  0ipj5zmes1cu   \n",
       "237643  q86525x69t            GB  33hffrhq             GB  426jwzj6b2uz   \n",
       "\n",
       "         category brand currency  price       date  \n",
       "23      Jewellery   NaN      USD  16.29 2020-08-03  \n",
       "48      Jewellery   NaN      AUD  12.52 2020-08-07  \n",
       "49      Jewellery   NaN      AUD   8.48 2020-08-09  \n",
       "50      Jewellery   NaN      AUD   5.58 2020-08-09  \n",
       "51      Jewellery   NaN      AUD   5.37 2020-08-09  \n",
       "...           ...   ...      ...    ...        ...  \n",
       "237545  Jewellery   NaN      USD  21.19 2020-08-05  \n",
       "237568  Jewellery   NaN      GBP   1.15 2020-08-05  \n",
       "237569  Jewellery   NaN      GBP   1.15 2020-08-05  \n",
       "237616  Jewellery   NaN      USD  18.67 2020-08-08  \n",
       "237643  Jewellery   NaN      GBP   5.30 2020-08-05  \n",
       "\n",
       "[13525 rows x 10 columns]"
      ]
     },
     "execution_count": 151,
     "metadata": {},
     "output_type": "execute_result"
    }
   ],
   "source": [
    "sales[(sales.category == \"Jewellery\") & (sales.brand.isnull())]"
   ]
  },
  {
   "cell_type": "code",
   "execution_count": 152,
   "id": "4baa3f19",
   "metadata": {},
   "outputs": [
    {
     "data": {
      "text/plain": [
       "10931"
      ]
     },
     "execution_count": 152,
     "metadata": {},
     "output_type": "execute_result"
    }
   ],
   "source": [
    "sales[(sales.category == \"Jewellery\") & (sales.brand.isnull())].product_code.nunique()"
   ]
  },
  {
   "cell_type": "markdown",
   "id": "bc0d971a",
   "metadata": {},
   "source": [
    "**7. How many brands have between 35 and 55 transactions (inclusive)?(Just write the numbers)**"
   ]
  },
  {
   "cell_type": "code",
   "execution_count": 161,
   "id": "ec18b977",
   "metadata": {},
   "outputs": [
    {
     "data": {
      "text/plain": [
       "False    1053\n",
       "True       81\n",
       "Name: brand, dtype: int64"
      ]
     },
     "execution_count": 161,
     "metadata": {},
     "output_type": "execute_result"
    }
   ],
   "source": [
    "((sales.groupby(\"brand\")[\"brand\"].value_counts()<=55) & (sales.groupby(\"brand\")[\"brand\"].value_counts()>=35)).value_counts()"
   ]
  },
  {
   "cell_type": "code",
   "execution_count": 162,
   "id": "bc40cb6c",
   "metadata": {},
   "outputs": [
    {
     "data": {
      "text/plain": [
       "81"
      ]
     },
     "execution_count": 162,
     "metadata": {},
     "output_type": "execute_result"
    }
   ],
   "source": [
    "((df_new.brand.value_counts() >= 35) & (df_new.brand.value_counts() <= 55)).sum()"
   ]
  },
  {
   "cell_type": "code",
   "execution_count": null,
   "id": "cc0df6e5",
   "metadata": {},
   "outputs": [],
   "source": []
  },
  {
   "cell_type": "markdown",
   "id": "8b042c96",
   "metadata": {},
   "source": [
    "**8. How many pairs of shoes were purchased by Australian (AU) buyers?(Just write the the numbers)**"
   ]
  },
  {
   "cell_type": "code",
   "execution_count": 122,
   "id": "1336832b",
   "metadata": {},
   "outputs": [
    {
     "data": {
      "text/html": [
       "<div>\n",
       "<style scoped>\n",
       "    .dataframe tbody tr th:only-of-type {\n",
       "        vertical-align: middle;\n",
       "    }\n",
       "\n",
       "    .dataframe tbody tr th {\n",
       "        vertical-align: top;\n",
       "    }\n",
       "\n",
       "    .dataframe thead th {\n",
       "        text-align: right;\n",
       "    }\n",
       "</style>\n",
       "<table border=\"1\" class=\"dataframe\">\n",
       "  <thead>\n",
       "    <tr style=\"text-align: right;\">\n",
       "      <th></th>\n",
       "      <th>buyer_id</th>\n",
       "      <th>buyer_country</th>\n",
       "      <th>seller_id</th>\n",
       "      <th>seller_country</th>\n",
       "      <th>product_code</th>\n",
       "      <th>category</th>\n",
       "      <th>brand</th>\n",
       "      <th>currency</th>\n",
       "      <th>price</th>\n",
       "      <th>date</th>\n",
       "    </tr>\n",
       "  </thead>\n",
       "  <tbody>\n",
       "    <tr>\n",
       "      <th>139</th>\n",
       "      <td>ex9bpqq8w6</td>\n",
       "      <td>AU</td>\n",
       "      <td>j3pkou10</td>\n",
       "      <td>US</td>\n",
       "      <td>2tzszjhssh03</td>\n",
       "      <td>Shoes</td>\n",
       "      <td>Skechers</td>\n",
       "      <td>USD</td>\n",
       "      <td>52.24</td>\n",
       "      <td>2020-08-08</td>\n",
       "    </tr>\n",
       "    <tr>\n",
       "      <th>539</th>\n",
       "      <td>uru4etz7e5</td>\n",
       "      <td>AU</td>\n",
       "      <td>1i84ez1k</td>\n",
       "      <td>AU</td>\n",
       "      <td>zzu9hpjsjx6o</td>\n",
       "      <td>Shoes</td>\n",
       "      <td>NaN</td>\n",
       "      <td>AUD</td>\n",
       "      <td>73.73</td>\n",
       "      <td>2020-08-09</td>\n",
       "    </tr>\n",
       "    <tr>\n",
       "      <th>5639</th>\n",
       "      <td>9fn32ae6a9</td>\n",
       "      <td>AU</td>\n",
       "      <td>arloo1le</td>\n",
       "      <td>GB</td>\n",
       "      <td>a2gdza98bia7</td>\n",
       "      <td>Shoes</td>\n",
       "      <td>Nike</td>\n",
       "      <td>GBP</td>\n",
       "      <td>75.27</td>\n",
       "      <td>2020-08-09</td>\n",
       "    </tr>\n",
       "    <tr>\n",
       "      <th>7117</th>\n",
       "      <td>40jm2mgsri</td>\n",
       "      <td>AU</td>\n",
       "      <td>toud3ymd</td>\n",
       "      <td>AU</td>\n",
       "      <td>so29y8tl6rvs</td>\n",
       "      <td>Shoes</td>\n",
       "      <td>Nike</td>\n",
       "      <td>AUD</td>\n",
       "      <td>55.03</td>\n",
       "      <td>2020-08-09</td>\n",
       "    </tr>\n",
       "    <tr>\n",
       "      <th>7118</th>\n",
       "      <td>ncxx01xn4j</td>\n",
       "      <td>AU</td>\n",
       "      <td>toud3ymd</td>\n",
       "      <td>AU</td>\n",
       "      <td>utn7clcp7j3n</td>\n",
       "      <td>Shoes</td>\n",
       "      <td>NaN</td>\n",
       "      <td>AUD</td>\n",
       "      <td>211.76</td>\n",
       "      <td>2020-08-03</td>\n",
       "    </tr>\n",
       "    <tr>\n",
       "      <th>...</th>\n",
       "      <td>...</td>\n",
       "      <td>...</td>\n",
       "      <td>...</td>\n",
       "      <td>...</td>\n",
       "      <td>...</td>\n",
       "      <td>...</td>\n",
       "      <td>...</td>\n",
       "      <td>...</td>\n",
       "      <td>...</td>\n",
       "      <td>...</td>\n",
       "    </tr>\n",
       "    <tr>\n",
       "      <th>236930</th>\n",
       "      <td>azmnowovd7</td>\n",
       "      <td>AU</td>\n",
       "      <td>xgse9ed3</td>\n",
       "      <td>AU</td>\n",
       "      <td>1xzq0f7a31bi</td>\n",
       "      <td>Shoes</td>\n",
       "      <td>NaN</td>\n",
       "      <td>AUD</td>\n",
       "      <td>85.48</td>\n",
       "      <td>2020-08-05</td>\n",
       "    </tr>\n",
       "    <tr>\n",
       "      <th>237075</th>\n",
       "      <td>i0loqi83nv</td>\n",
       "      <td>AU</td>\n",
       "      <td>f8ts15sr</td>\n",
       "      <td>AU</td>\n",
       "      <td>zvrlgzyse7j6</td>\n",
       "      <td>Shoes</td>\n",
       "      <td>NaN</td>\n",
       "      <td>AUD</td>\n",
       "      <td>34.01</td>\n",
       "      <td>2020-08-05</td>\n",
       "    </tr>\n",
       "    <tr>\n",
       "      <th>237495</th>\n",
       "      <td>86aw49gm0m</td>\n",
       "      <td>AU</td>\n",
       "      <td>seb5z7bo</td>\n",
       "      <td>AU</td>\n",
       "      <td>xeebt9i4gyo3</td>\n",
       "      <td>Shoes</td>\n",
       "      <td>NaN</td>\n",
       "      <td>AUD</td>\n",
       "      <td>85.69</td>\n",
       "      <td>2020-08-05</td>\n",
       "    </tr>\n",
       "    <tr>\n",
       "      <th>237497</th>\n",
       "      <td>pcd2mdsr3n</td>\n",
       "      <td>AU</td>\n",
       "      <td>agzes91a</td>\n",
       "      <td>AU</td>\n",
       "      <td>bvqweclvm8tx</td>\n",
       "      <td>Shoes</td>\n",
       "      <td>NaN</td>\n",
       "      <td>AUD</td>\n",
       "      <td>95.27</td>\n",
       "      <td>2020-08-06</td>\n",
       "    </tr>\n",
       "    <tr>\n",
       "      <th>237575</th>\n",
       "      <td>0s9ms8inq0</td>\n",
       "      <td>AU</td>\n",
       "      <td>zkon4br2</td>\n",
       "      <td>AU</td>\n",
       "      <td>srw1zpebx9zo</td>\n",
       "      <td>Shoes</td>\n",
       "      <td>Nike</td>\n",
       "      <td>AUD</td>\n",
       "      <td>180.12</td>\n",
       "      <td>2020-08-05</td>\n",
       "    </tr>\n",
       "  </tbody>\n",
       "</table>\n",
       "<p>658 rows × 10 columns</p>\n",
       "</div>"
      ],
      "text/plain": [
       "          buyer_id buyer_country seller_id seller_country  product_code  \\\n",
       "139     ex9bpqq8w6            AU  j3pkou10             US  2tzszjhssh03   \n",
       "539     uru4etz7e5            AU  1i84ez1k             AU  zzu9hpjsjx6o   \n",
       "5639    9fn32ae6a9            AU  arloo1le             GB  a2gdza98bia7   \n",
       "7117    40jm2mgsri            AU  toud3ymd             AU  so29y8tl6rvs   \n",
       "7118    ncxx01xn4j            AU  toud3ymd             AU  utn7clcp7j3n   \n",
       "...            ...           ...       ...            ...           ...   \n",
       "236930  azmnowovd7            AU  xgse9ed3             AU  1xzq0f7a31bi   \n",
       "237075  i0loqi83nv            AU  f8ts15sr             AU  zvrlgzyse7j6   \n",
       "237495  86aw49gm0m            AU  seb5z7bo             AU  xeebt9i4gyo3   \n",
       "237497  pcd2mdsr3n            AU  agzes91a             AU  bvqweclvm8tx   \n",
       "237575  0s9ms8inq0            AU  zkon4br2             AU  srw1zpebx9zo   \n",
       "\n",
       "       category     brand currency   price       date  \n",
       "139       Shoes  Skechers      USD   52.24 2020-08-08  \n",
       "539       Shoes       NaN      AUD   73.73 2020-08-09  \n",
       "5639      Shoes      Nike      GBP   75.27 2020-08-09  \n",
       "7117      Shoes      Nike      AUD   55.03 2020-08-09  \n",
       "7118      Shoes       NaN      AUD  211.76 2020-08-03  \n",
       "...         ...       ...      ...     ...        ...  \n",
       "236930    Shoes       NaN      AUD   85.48 2020-08-05  \n",
       "237075    Shoes       NaN      AUD   34.01 2020-08-05  \n",
       "237495    Shoes       NaN      AUD   85.69 2020-08-05  \n",
       "237497    Shoes       NaN      AUD   95.27 2020-08-06  \n",
       "237575    Shoes      Nike      AUD  180.12 2020-08-05  \n",
       "\n",
       "[658 rows x 10 columns]"
      ]
     },
     "execution_count": 122,
     "metadata": {},
     "output_type": "execute_result"
    }
   ],
   "source": [
    "sales[(sales[\"category\"] == \"Shoes\") & (sales[\"buyer_country\"] == \"AU\")]"
   ]
  },
  {
   "cell_type": "markdown",
   "id": "e527d075",
   "metadata": {},
   "source": [
    "**9. Which brand has the highest average transaction value? (Just write down the brand as in the dataset, your answer is supposed to be case sensitive)**"
   ]
  },
  {
   "cell_type": "code",
   "execution_count": 128,
   "id": "2690dcfc",
   "metadata": {},
   "outputs": [
    {
     "data": {
      "text/plain": [
       "brand\n",
       "360 Cashmere                1.120000\n",
       "36572                       1.120000\n",
       "Bronica                     3.786000\n",
       "Max Factor                  3.911667\n",
       "MUA                         4.686667\n",
       "                             ...    \n",
       "Walter Van Beirendonck    216.180000\n",
       "Craig Green               239.940000\n",
       "Loeffler Randall          244.840000\n",
       "Loewe                     302.043333\n",
       "Goyard                    339.363333\n",
       "Name: price, Length: 1134, dtype: float64"
      ]
     },
     "execution_count": 128,
     "metadata": {},
     "output_type": "execute_result"
    }
   ],
   "source": [
    "sales.groupby(\"brand\")[\"price\"].mean().sort_values()"
   ]
  },
  {
   "cell_type": "code",
   "execution_count": 165,
   "id": "2b7511ca",
   "metadata": {},
   "outputs": [
    {
     "data": {
      "text/plain": [
       "'Goyard'"
      ]
     },
     "execution_count": 165,
     "metadata": {},
     "output_type": "execute_result"
    }
   ],
   "source": [
    "sales.groupby(\"brand\")[\"price\"].mean().idxmax()"
   ]
  },
  {
   "cell_type": "markdown",
   "id": "543008dc",
   "metadata": {},
   "source": [
    "**10.What is the total value of items purchased by GB buyers from GB sellers? (Just write the numbers\n",
    "in the format of 0.000.000 )**"
   ]
  },
  {
   "cell_type": "code",
   "execution_count": 167,
   "id": "4c2cbe53",
   "metadata": {},
   "outputs": [
    {
     "data": {
      "text/html": [
       "<div>\n",
       "<style scoped>\n",
       "    .dataframe tbody tr th:only-of-type {\n",
       "        vertical-align: middle;\n",
       "    }\n",
       "\n",
       "    .dataframe tbody tr th {\n",
       "        vertical-align: top;\n",
       "    }\n",
       "\n",
       "    .dataframe thead th {\n",
       "        text-align: right;\n",
       "    }\n",
       "</style>\n",
       "<table border=\"1\" class=\"dataframe\">\n",
       "  <thead>\n",
       "    <tr style=\"text-align: right;\">\n",
       "      <th></th>\n",
       "      <th>buyer_id</th>\n",
       "      <th>buyer_country</th>\n",
       "      <th>seller_id</th>\n",
       "      <th>seller_country</th>\n",
       "      <th>product_code</th>\n",
       "      <th>category</th>\n",
       "      <th>brand</th>\n",
       "      <th>currency</th>\n",
       "      <th>price</th>\n",
       "      <th>date</th>\n",
       "      <th>rate</th>\n",
       "      <th>Total</th>\n",
       "    </tr>\n",
       "  </thead>\n",
       "  <tbody>\n",
       "    <tr>\n",
       "      <th>0</th>\n",
       "      <td>qzpjsi9t0o</td>\n",
       "      <td>GB</td>\n",
       "      <td>6oufpaot</td>\n",
       "      <td>GB</td>\n",
       "      <td>ydecnydr6obf</td>\n",
       "      <td>Dresses</td>\n",
       "      <td>NaN</td>\n",
       "      <td>GBP</td>\n",
       "      <td>19.11</td>\n",
       "      <td>2020-08-03</td>\n",
       "      <td>0.89935</td>\n",
       "      <td>21.248680</td>\n",
       "    </tr>\n",
       "    <tr>\n",
       "      <th>1</th>\n",
       "      <td>rd209r8c7c</td>\n",
       "      <td>GB</td>\n",
       "      <td>9p2ansc9</td>\n",
       "      <td>GB</td>\n",
       "      <td>wpxxf59cq7pc</td>\n",
       "      <td>Outerwear - Mens</td>\n",
       "      <td>Adidas Originals</td>\n",
       "      <td>GBP</td>\n",
       "      <td>24.91</td>\n",
       "      <td>2020-08-03</td>\n",
       "      <td>0.89935</td>\n",
       "      <td>27.697782</td>\n",
       "    </tr>\n",
       "    <tr>\n",
       "      <th>2</th>\n",
       "      <td>pqbcrl8azx</td>\n",
       "      <td>GB</td>\n",
       "      <td>r9zmzem8</td>\n",
       "      <td>GB</td>\n",
       "      <td>ua9mmn86wsqy</td>\n",
       "      <td>Tops - Womens</td>\n",
       "      <td>NaN</td>\n",
       "      <td>GBP</td>\n",
       "      <td>19.31</td>\n",
       "      <td>2020-08-03</td>\n",
       "      <td>0.89935</td>\n",
       "      <td>21.471062</td>\n",
       "    </tr>\n",
       "    <tr>\n",
       "      <th>3</th>\n",
       "      <td>j5en1rwmxp</td>\n",
       "      <td>GB</td>\n",
       "      <td>3o2nz88r</td>\n",
       "      <td>GB</td>\n",
       "      <td>tduo2uy8iszl</td>\n",
       "      <td>Bottoms - Womens</td>\n",
       "      <td>Urban Outfitters</td>\n",
       "      <td>GBP</td>\n",
       "      <td>16.98</td>\n",
       "      <td>2020-08-03</td>\n",
       "      <td>0.89935</td>\n",
       "      <td>18.880302</td>\n",
       "    </tr>\n",
       "    <tr>\n",
       "      <th>4</th>\n",
       "      <td>kjdezxeh1l</td>\n",
       "      <td>GB</td>\n",
       "      <td>7g56ublf</td>\n",
       "      <td>GB</td>\n",
       "      <td>39o00tcu89zq</td>\n",
       "      <td>Other</td>\n",
       "      <td>NaN</td>\n",
       "      <td>GBP</td>\n",
       "      <td>2.85</td>\n",
       "      <td>2020-08-03</td>\n",
       "      <td>0.89935</td>\n",
       "      <td>3.168955</td>\n",
       "    </tr>\n",
       "  </tbody>\n",
       "</table>\n",
       "</div>"
      ],
      "text/plain": [
       "     buyer_id buyer_country seller_id seller_country  product_code  \\\n",
       "0  qzpjsi9t0o            GB  6oufpaot             GB  ydecnydr6obf   \n",
       "1  rd209r8c7c            GB  9p2ansc9             GB  wpxxf59cq7pc   \n",
       "2  pqbcrl8azx            GB  r9zmzem8             GB  ua9mmn86wsqy   \n",
       "3  j5en1rwmxp            GB  3o2nz88r             GB  tduo2uy8iszl   \n",
       "4  kjdezxeh1l            GB  7g56ublf             GB  39o00tcu89zq   \n",
       "\n",
       "           category             brand currency  price       date     rate  \\\n",
       "0           Dresses               NaN      GBP  19.11 2020-08-03  0.89935   \n",
       "1  Outerwear - Mens  Adidas Originals      GBP  24.91 2020-08-03  0.89935   \n",
       "2     Tops - Womens               NaN      GBP  19.31 2020-08-03  0.89935   \n",
       "3  Bottoms - Womens  Urban Outfitters      GBP  16.98 2020-08-03  0.89935   \n",
       "4             Other               NaN      GBP   2.85 2020-08-03  0.89935   \n",
       "\n",
       "       Total  \n",
       "0  21.248680  \n",
       "1  27.697782  \n",
       "2  21.471062  \n",
       "3  18.880302  \n",
       "4   3.168955  "
      ]
     },
     "execution_count": 167,
     "metadata": {},
     "output_type": "execute_result"
    }
   ],
   "source": [
    "df_new.head()"
   ]
  },
  {
   "cell_type": "code",
   "execution_count": 166,
   "id": "5f96d5d7",
   "metadata": {},
   "outputs": [
    {
     "data": {
      "text/plain": [
       "3526745.033129233"
      ]
     },
     "execution_count": 166,
     "metadata": {},
     "output_type": "execute_result"
    }
   ],
   "source": [
    "df_new[(df_new.buyer_country == \"GB\") & (df_new.seller_country == \"GB\")][\"Total\"].sum()"
   ]
  },
  {
   "cell_type": "markdown",
   "id": "7daead43",
   "metadata": {},
   "source": [
    "**11. What percentage of US sellers' transactions were purchased by US buyers? (Just write the percentage in the format of 00.00%)**"
   ]
  },
  {
   "cell_type": "code",
   "execution_count": 104,
   "id": "291926ce",
   "metadata": {},
   "outputs": [
    {
     "data": {
      "text/plain": [
       "0.9823044415486354"
      ]
     },
     "execution_count": 104,
     "metadata": {},
     "output_type": "execute_result"
    }
   ],
   "source": [
    "sales[(sales.seller_country == \"US\") & (sales.buyer_country == \"US\")].shape[0] /sales[sales.seller_country == \"US\" ].shape[0]"
   ]
  },
  {
   "cell_type": "code",
   "execution_count": 169,
   "id": "6c800651",
   "metadata": {},
   "outputs": [
    {
     "data": {
      "text/plain": [
       "0.9596922067159569"
      ]
     },
     "execution_count": 169,
     "metadata": {},
     "output_type": "execute_result"
    }
   ],
   "source": [
    "df_new[(df_new.seller_country == \"US\") & (df_new.buyer_country == \"US\")][\"Total\"].sum() /df_new[df_new.seller_country == \"US\" ][\"Total\"].sum()"
   ]
  },
  {
   "cell_type": "code",
   "execution_count": null,
   "id": "24dd08c0",
   "metadata": {},
   "outputs": [],
   "source": []
  }
 ],
 "metadata": {
  "kernelspec": {
   "display_name": "Python 3 (ipykernel)",
   "language": "python",
   "name": "python3"
  },
  "language_info": {
   "codemirror_mode": {
    "name": "ipython",
    "version": 3
   },
   "file_extension": ".py",
   "mimetype": "text/x-python",
   "name": "python",
   "nbconvert_exporter": "python",
   "pygments_lexer": "ipython3",
   "version": "3.9.7"
  }
 },
 "nbformat": 4,
 "nbformat_minor": 5
}
